{
 "cells": [
  {
   "cell_type": "markdown",
   "metadata": {},
   "source": [
    "### Dados"
   ]
  },
  {
   "cell_type": "markdown",
   "metadata": {},
   "source": [
    "**Entendimento dos dados:** Notebook *nyc_turnstile_estudos.ipynb*\n",
    "\n",
    "**Metadados da base de entrada**\n",
    "\n",
    "  \n",
    "  \n",
    "C/A      = Control Area (A002)  \n",
    "UNIT     = Remote Unit for a station (R051)  \n",
    "SCP      = Subunit Channel Position represents an specific address for a device (02-00-00)  \n",
    "STATION  = Represents the station name the device is located at  \n",
    "LINENAME = Represents all train lines that can be boarded at this station  \n",
    "           Normally lines are represented by one character.  LINENAME 456NQR repersents train server for 4, 5, 6, N, Q, and R trains.  \n",
    "DIVISION = Represents the Line originally the station belonged to BMT, IRT, or IND     \n",
    "DATE     = Represents the date (MM-DD-YY)  \n",
    "TIME     = Represents the time (hh:mm:ss) for a scheduled audit event  \n",
    "DESc     = Represent the \"REGULAR\" scheduled audit event (Normally occurs every 4 hours)  \n",
    "           1. Audits may occur more that 4 hours due to planning, or troubleshooting activities.   \n",
    "           2. Additionally, there may be a \"RECOVR AUD\" entry: This refers to a missed audit that was recovered.   \n",
    "ENTRIES  = The comulative entry register value for a device  \n",
    "EXIST    = The cumulative exit register value for a device\n"
   ]
  },
  {
   "cell_type": "markdown",
   "metadata": {},
   "source": [
    "### Importing Data"
   ]
  },
  {
   "cell_type": "code",
   "execution_count": 3,
   "metadata": {},
   "outputs": [],
   "source": [
    "from datetime import datetime \n",
    "from tqdm import tqdm\n",
    "import pandas as pd\n",
    "import numpy as np\n",
    "import os, sys\n",
    "import gc\n",
    "\n",
    "from pandas.tseries.holiday import Holiday, USMemorialDay, AbstractHolidayCalendar, nearest_workday, MO\n",
    "\n",
    "# visualization\n",
    "import matplotlib.pyplot as plt\n",
    "import seaborn as sns\n",
    "\n",
    "#model\n",
    "from sklearn.ensemble import RandomForestRegressor\n",
    "\n",
    "# validação\n",
    "from sklearn.metrics import explained_variance_score, max_error, mean_absolute_error, median_absolute_error\n",
    "from sklearn.metrics import mean_squared_error as mse\n",
    "from sklearn.metrics import mean_squared_log_error as msle\n"
   ]
  },
  {
   "cell_type": "markdown",
   "metadata": {},
   "source": [
    "*Foi criada a ***\"utils_nyc_turnstile.py\"*** para facilitar os tratamentos da base conforme os estudos em ***nyc_turnstile_estudos.ipynb***.*"
   ]
  },
  {
   "cell_type": "code",
   "execution_count": 30,
   "metadata": {},
   "outputs": [
    {
     "name": "stdout",
     "output_type": "stream",
     "text": [
      "The autoreload extension is already loaded. To reload it, use:\n",
      "  %reload_ext autoreload\n"
     ]
    }
   ],
   "source": [
    "%load_ext autoreload\n",
    "%autoreload 2\n",
    "\n",
    "from utils_nyc_turnstile import * "
   ]
  },
  {
   "cell_type": "code",
   "execution_count": 12,
   "metadata": {},
   "outputs": [
    {
     "name": "stderr",
     "output_type": "stream",
     "text": [
      "100%|████████████████████████████████████████████████████████████████████████████████████| 8/8 [04:53<00:00, 36.69s/it]\n"
     ]
    },
    {
     "name": "stdout",
     "output_type": "stream",
     "text": [
      "Wall time: 4min 53s\n"
     ]
    }
   ],
   "source": [
    "%%time\n",
    "\n",
    "# Open a file\n",
    "path = \"data/dados_desafio\"\n",
    "dirs = os.listdir(path)\n",
    "\n",
    "df_years=[]\n",
    "\n",
    "for file in tqdm(dirs):\n",
    "    df = pd.read_csv(\"data/dados_desafio/{}\".format(file),compression='gzip')    \n",
    "    df_years.append(dataset_transform(df))\n",
    "#import gc\n",
    "#gc.collect()"
   ]
  },
  {
   "cell_type": "code",
   "execution_count": 13,
   "metadata": {
    "scrolled": false
   },
   "outputs": [
    {
     "name": "stdout",
     "output_type": "stream",
     "text": [
      "2010 (93511, 3)\n",
      "2011 (138369, 3)\n",
      "2012 (137787, 3)\n",
      "2013 (137943, 3)\n",
      "2014 (135980, 3)\n",
      "2015 (139861, 3)\n",
      "2016 (135885, 3)\n"
     ]
    }
   ],
   "source": [
    "# 0 to 8: 2010 to 2017\n",
    "yeas_list = np.arange(2010,2017)\n",
    "\n",
    "for df, y in zip(df_years, yeas_list):\n",
    "    print(y, df.shape)"
   ]
  },
  {
   "cell_type": "markdown",
   "metadata": {},
   "source": [
    "### Data Cleaning"
   ]
  },
  {
   "cell_type": "code",
   "execution_count": 14,
   "metadata": {},
   "outputs": [
    {
     "data": {
      "text/plain": [
       "59"
      ]
     },
     "execution_count": 14,
     "metadata": {},
     "output_type": "execute_result"
    }
   ],
   "source": [
    "df_full = pd.concat(df_years, axis = 0, sort = False).reset_index(drop = True)\n",
    "#df_full.to_csv(\"data/output/df_full.csv\", index = False)\n",
    "\n",
    "#del df_years\n",
    "gc.collect()"
   ]
  },
  {
   "cell_type": "code",
   "execution_count": 15,
   "metadata": {
    "scrolled": true
   },
   "outputs": [
    {
     "data": {
      "text/html": [
       "<div>\n",
       "<style scoped>\n",
       "    .dataframe tbody tr th:only-of-type {\n",
       "        vertical-align: middle;\n",
       "    }\n",
       "\n",
       "    .dataframe tbody tr th {\n",
       "        vertical-align: top;\n",
       "    }\n",
       "\n",
       "    .dataframe thead th {\n",
       "        text-align: right;\n",
       "    }\n",
       "</style>\n",
       "<table border=\"1\" class=\"dataframe\">\n",
       "  <thead>\n",
       "    <tr style=\"text-align: right;\">\n",
       "      <th></th>\n",
       "      <th>station</th>\n",
       "      <th>date</th>\n",
       "      <th>daily_entries</th>\n",
       "    </tr>\n",
       "  </thead>\n",
       "  <tbody>\n",
       "    <tr>\n",
       "      <td>0</td>\n",
       "      <td>1 AVE</td>\n",
       "      <td>2010-04-17</td>\n",
       "      <td>0.0</td>\n",
       "    </tr>\n",
       "    <tr>\n",
       "      <td>1</td>\n",
       "      <td>1 AVE</td>\n",
       "      <td>2010-04-18</td>\n",
       "      <td>16000.0</td>\n",
       "    </tr>\n",
       "    <tr>\n",
       "      <td>2</td>\n",
       "      <td>1 AVE</td>\n",
       "      <td>2010-04-19</td>\n",
       "      <td>17488.0</td>\n",
       "    </tr>\n",
       "    <tr>\n",
       "      <td>3</td>\n",
       "      <td>1 AVE</td>\n",
       "      <td>2010-04-20</td>\n",
       "      <td>21032.0</td>\n",
       "    </tr>\n",
       "    <tr>\n",
       "      <td>4</td>\n",
       "      <td>1 AVE</td>\n",
       "      <td>2010-04-21</td>\n",
       "      <td>21696.0</td>\n",
       "    </tr>\n",
       "  </tbody>\n",
       "</table>\n",
       "</div>"
      ],
      "text/plain": [
       "  station        date  daily_entries\n",
       "0   1 AVE  2010-04-17            0.0\n",
       "1   1 AVE  2010-04-18        16000.0\n",
       "2   1 AVE  2010-04-19        17488.0\n",
       "3   1 AVE  2010-04-20        21032.0\n",
       "4   1 AVE  2010-04-21        21696.0"
      ]
     },
     "execution_count": 15,
     "metadata": {},
     "output_type": "execute_result"
    }
   ],
   "source": [
    "df_full.head()"
   ]
  },
  {
   "cell_type": "code",
   "execution_count": 20,
   "metadata": {},
   "outputs": [
    {
     "data": {
      "text/plain": [
       "station          0\n",
       "date             0\n",
       "daily_entries    0\n",
       "dtype: int64"
      ]
     },
     "execution_count": 20,
     "metadata": {},
     "output_type": "execute_result"
    }
   ],
   "source": [
    "df_full.isna().sum()"
   ]
  },
  {
   "cell_type": "code",
   "execution_count": 74,
   "metadata": {},
   "outputs": [],
   "source": [
    "#df_full = pd.read_csv(\"data/output/df_full.csv\")"
   ]
  },
  {
   "cell_type": "code",
   "execution_count": 21,
   "metadata": {
    "scrolled": true
   },
   "outputs": [
    {
     "data": {
      "text/plain": [
       "574"
      ]
     },
     "execution_count": 21,
     "metadata": {},
     "output_type": "execute_result"
    }
   ],
   "source": [
    "df_full.station.nunique()"
   ]
  },
  {
   "cell_type": "markdown",
   "metadata": {},
   "source": [
    "**Para a solução, foi escolhida a estação \"103 ST\"**"
   ]
  },
  {
   "cell_type": "code",
   "execution_count": 181,
   "metadata": {},
   "outputs": [],
   "source": [
    "# Escolha de uma estação para o modelo\n",
    "\n",
    "df_model = df_full[df_full.station =='103 ST'].drop(['station'], axis =1).reset_index(drop= True)"
   ]
  },
  {
   "cell_type": "code",
   "execution_count": 182,
   "metadata": {
    "scrolled": true
   },
   "outputs": [
    {
     "data": {
      "text/html": [
       "<div>\n",
       "<style scoped>\n",
       "    .dataframe tbody tr th:only-of-type {\n",
       "        vertical-align: middle;\n",
       "    }\n",
       "\n",
       "    .dataframe tbody tr th {\n",
       "        vertical-align: top;\n",
       "    }\n",
       "\n",
       "    .dataframe thead th {\n",
       "        text-align: right;\n",
       "    }\n",
       "</style>\n",
       "<table border=\"1\" class=\"dataframe\">\n",
       "  <thead>\n",
       "    <tr style=\"text-align: right;\">\n",
       "      <th></th>\n",
       "      <th>date</th>\n",
       "      <th>daily_entries</th>\n",
       "    </tr>\n",
       "  </thead>\n",
       "  <tbody>\n",
       "    <tr>\n",
       "      <td>0</td>\n",
       "      <td>2010-04-17</td>\n",
       "      <td>0.0</td>\n",
       "    </tr>\n",
       "    <tr>\n",
       "      <td>1</td>\n",
       "      <td>2010-04-18</td>\n",
       "      <td>20546.0</td>\n",
       "    </tr>\n",
       "    <tr>\n",
       "      <td>2</td>\n",
       "      <td>2010-04-19</td>\n",
       "      <td>29630.0</td>\n",
       "    </tr>\n",
       "    <tr>\n",
       "      <td>3</td>\n",
       "      <td>2010-04-20</td>\n",
       "      <td>33551.0</td>\n",
       "    </tr>\n",
       "    <tr>\n",
       "      <td>4</td>\n",
       "      <td>2010-04-21</td>\n",
       "      <td>34595.0</td>\n",
       "    </tr>\n",
       "  </tbody>\n",
       "</table>\n",
       "</div>"
      ],
      "text/plain": [
       "         date  daily_entries\n",
       "0  2010-04-17            0.0\n",
       "1  2010-04-18        20546.0\n",
       "2  2010-04-19        29630.0\n",
       "3  2010-04-20        33551.0\n",
       "4  2010-04-21        34595.0"
      ]
     },
     "execution_count": 182,
     "metadata": {},
     "output_type": "execute_result"
    }
   ],
   "source": [
    "df_model.head()"
   ]
  },
  {
   "cell_type": "code",
   "execution_count": 183,
   "metadata": {
    "scrolled": true
   },
   "outputs": [
    {
     "data": {
      "text/plain": [
       "(2705, 2)"
      ]
     },
     "execution_count": 183,
     "metadata": {},
     "output_type": "execute_result"
    }
   ],
   "source": [
    "df_model.shape"
   ]
  },
  {
   "cell_type": "code",
   "execution_count": 184,
   "metadata": {
    "scrolled": false
   },
   "outputs": [],
   "source": [
    "df_model['datetime'] =0\n",
    "df_model['datetime'] = clean_date(df_model, 'date')"
   ]
  },
  {
   "cell_type": "code",
   "execution_count": 185,
   "metadata": {},
   "outputs": [],
   "source": [
    "df_model.set_index('datetime', drop = True, inplace = True)"
   ]
  },
  {
   "cell_type": "markdown",
   "metadata": {},
   "source": [
    "### Feature Engineering"
   ]
  },
  {
   "cell_type": "code",
   "execution_count": 186,
   "metadata": {},
   "outputs": [],
   "source": [
    "\n",
    "def generate_date_features(df, low_bound, high_bound):\n",
    "    \n",
    "    cal = ExampleCalendar()\n",
    "    usa_holidays = pd.offsets.CustomBusinessDay(calendar=cal)\n",
    "    low_bound, high_bound = span_year_range(low_bound,high_bound)\n",
    "    holidays_usa = cal.holidays()\n",
    " \n",
    "    df['dayofweek'] = df.index.dayofweek\n",
    "    df['day'] = df.index.day\n",
    "    df['month'] = df.index.month\n",
    "    df['quarter'] = df.index.quarter\n",
    "    df['day_of_week'] = df.index.dayofweek\n",
    "    df['week_of_year'] = df.index.weekofyear\n",
    "    df['is_business_day'] = is_business_day(df)\n",
    "    df['is_national_holiday'] = is_national_holiday(df, holidays_usa)\n",
    "\n",
    "    df['is_month_start'] = pd.Series(df.index.is_month_start).apply(lambda x: 1 if x == True else 0).values\n",
    "    df['is_month_end'] = pd.Series(df.index.is_month_end).apply(lambda x: 1 if x == True else 0).values\n",
    "    df['is_quarter_start'] = pd.Series(df.index.is_quarter_start).apply(lambda x: 1 if x == True else 0).values\n",
    "    df['is_quarter_end'] = pd.Series(df.index.is_quarter_end).apply(lambda x: 1 if x == True else 0).values\n",
    "    \n",
    "    return df"
   ]
  },
  {
   "cell_type": "code",
   "execution_count": 187,
   "metadata": {},
   "outputs": [],
   "source": [
    "def generate_lags_features(df, column_value):\n",
    "    df['lag_1'] = df[column_value].shift(-1).fillna(0)\n",
    "    df['lag_2'] = df[column_value].shift(-2).fillna(0)\n",
    "    df['lag_3'] = df[column_value].shift(-3).fillna(0)\n",
    "    df['lag_4'] = df[column_value].shift(-4).fillna(0)\n",
    "    df['lag_5'] = df[column_value].shift(-5).fillna(0)\n",
    "    df['lag_6'] = df[column_value].shift(-6).fillna(0)\n",
    "    df['lag_7'] = df[column_value].shift(-7).fillna(0)\n",
    "    \n",
    "    df['lag_rate_1'] = df['lag_1'] / df[column_value]\n",
    "    df['lag_rate_2'] = df['lag_2'] / df[column_value]\n",
    "    df['lag_rate_3'] = df['lag_3'] / df[column_value]\n",
    "    df['lag_rate_4'] = df['lag_4'] / df[column_value]\n",
    "    df['lag_rate_5'] = df['lag_5'] / df[column_value]\n",
    "    df['lag_rate_6'] = df['lag_6'] / df[column_value]\n",
    "    df['lag_rate_7'] = df['lag_7'] / df[column_value]\n",
    "    df.fillna(0,inplace = True)\n",
    "    return df    "
   ]
  },
  {
   "cell_type": "code",
   "execution_count": 188,
   "metadata": {},
   "outputs": [
    {
     "data": {
      "text/html": [
       "<div>\n",
       "<style scoped>\n",
       "    .dataframe tbody tr th:only-of-type {\n",
       "        vertical-align: middle;\n",
       "    }\n",
       "\n",
       "    .dataframe tbody tr th {\n",
       "        vertical-align: top;\n",
       "    }\n",
       "\n",
       "    .dataframe thead th {\n",
       "        text-align: right;\n",
       "    }\n",
       "</style>\n",
       "<table border=\"1\" class=\"dataframe\">\n",
       "  <thead>\n",
       "    <tr style=\"text-align: right;\">\n",
       "      <th></th>\n",
       "      <th>date</th>\n",
       "      <th>daily_entries</th>\n",
       "      <th>dayofweek</th>\n",
       "      <th>day</th>\n",
       "      <th>month</th>\n",
       "      <th>quarter</th>\n",
       "      <th>day_of_week</th>\n",
       "      <th>week_of_year</th>\n",
       "      <th>is_business_day</th>\n",
       "      <th>is_national_holiday</th>\n",
       "      <th>is_month_start</th>\n",
       "      <th>is_month_end</th>\n",
       "      <th>is_quarter_start</th>\n",
       "      <th>is_quarter_end</th>\n",
       "    </tr>\n",
       "    <tr>\n",
       "      <th>datetime</th>\n",
       "      <th></th>\n",
       "      <th></th>\n",
       "      <th></th>\n",
       "      <th></th>\n",
       "      <th></th>\n",
       "      <th></th>\n",
       "      <th></th>\n",
       "      <th></th>\n",
       "      <th></th>\n",
       "      <th></th>\n",
       "      <th></th>\n",
       "      <th></th>\n",
       "      <th></th>\n",
       "      <th></th>\n",
       "    </tr>\n",
       "  </thead>\n",
       "  <tbody>\n",
       "    <tr>\n",
       "      <td>2010-04-17</td>\n",
       "      <td>2010-04-17</td>\n",
       "      <td>0.0</td>\n",
       "      <td>5</td>\n",
       "      <td>17</td>\n",
       "      <td>4</td>\n",
       "      <td>2</td>\n",
       "      <td>5</td>\n",
       "      <td>15</td>\n",
       "      <td>0</td>\n",
       "      <td>0</td>\n",
       "      <td>0</td>\n",
       "      <td>0</td>\n",
       "      <td>0</td>\n",
       "      <td>0</td>\n",
       "    </tr>\n",
       "    <tr>\n",
       "      <td>2010-04-18</td>\n",
       "      <td>2010-04-18</td>\n",
       "      <td>20546.0</td>\n",
       "      <td>6</td>\n",
       "      <td>18</td>\n",
       "      <td>4</td>\n",
       "      <td>2</td>\n",
       "      <td>6</td>\n",
       "      <td>15</td>\n",
       "      <td>0</td>\n",
       "      <td>0</td>\n",
       "      <td>0</td>\n",
       "      <td>0</td>\n",
       "      <td>0</td>\n",
       "      <td>0</td>\n",
       "    </tr>\n",
       "    <tr>\n",
       "      <td>2010-04-19</td>\n",
       "      <td>2010-04-19</td>\n",
       "      <td>29630.0</td>\n",
       "      <td>0</td>\n",
       "      <td>19</td>\n",
       "      <td>4</td>\n",
       "      <td>2</td>\n",
       "      <td>0</td>\n",
       "      <td>16</td>\n",
       "      <td>1</td>\n",
       "      <td>0</td>\n",
       "      <td>0</td>\n",
       "      <td>0</td>\n",
       "      <td>0</td>\n",
       "      <td>0</td>\n",
       "    </tr>\n",
       "    <tr>\n",
       "      <td>2010-04-20</td>\n",
       "      <td>2010-04-20</td>\n",
       "      <td>33551.0</td>\n",
       "      <td>1</td>\n",
       "      <td>20</td>\n",
       "      <td>4</td>\n",
       "      <td>2</td>\n",
       "      <td>1</td>\n",
       "      <td>16</td>\n",
       "      <td>1</td>\n",
       "      <td>0</td>\n",
       "      <td>0</td>\n",
       "      <td>0</td>\n",
       "      <td>0</td>\n",
       "      <td>0</td>\n",
       "    </tr>\n",
       "    <tr>\n",
       "      <td>2010-04-21</td>\n",
       "      <td>2010-04-21</td>\n",
       "      <td>34595.0</td>\n",
       "      <td>2</td>\n",
       "      <td>21</td>\n",
       "      <td>4</td>\n",
       "      <td>2</td>\n",
       "      <td>2</td>\n",
       "      <td>16</td>\n",
       "      <td>1</td>\n",
       "      <td>0</td>\n",
       "      <td>0</td>\n",
       "      <td>0</td>\n",
       "      <td>0</td>\n",
       "      <td>0</td>\n",
       "    </tr>\n",
       "    <tr>\n",
       "      <td>...</td>\n",
       "      <td>...</td>\n",
       "      <td>...</td>\n",
       "      <td>...</td>\n",
       "      <td>...</td>\n",
       "      <td>...</td>\n",
       "      <td>...</td>\n",
       "      <td>...</td>\n",
       "      <td>...</td>\n",
       "      <td>...</td>\n",
       "      <td>...</td>\n",
       "      <td>...</td>\n",
       "      <td>...</td>\n",
       "      <td>...</td>\n",
       "      <td>...</td>\n",
       "    </tr>\n",
       "    <tr>\n",
       "      <td>2017-09-19</td>\n",
       "      <td>2017-09-19</td>\n",
       "      <td>33264.0</td>\n",
       "      <td>1</td>\n",
       "      <td>19</td>\n",
       "      <td>9</td>\n",
       "      <td>3</td>\n",
       "      <td>1</td>\n",
       "      <td>38</td>\n",
       "      <td>1</td>\n",
       "      <td>0</td>\n",
       "      <td>0</td>\n",
       "      <td>0</td>\n",
       "      <td>0</td>\n",
       "      <td>0</td>\n",
       "    </tr>\n",
       "    <tr>\n",
       "      <td>2017-09-20</td>\n",
       "      <td>2017-09-20</td>\n",
       "      <td>33527.0</td>\n",
       "      <td>2</td>\n",
       "      <td>20</td>\n",
       "      <td>9</td>\n",
       "      <td>3</td>\n",
       "      <td>2</td>\n",
       "      <td>38</td>\n",
       "      <td>1</td>\n",
       "      <td>0</td>\n",
       "      <td>0</td>\n",
       "      <td>0</td>\n",
       "      <td>0</td>\n",
       "      <td>0</td>\n",
       "    </tr>\n",
       "    <tr>\n",
       "      <td>2017-09-21</td>\n",
       "      <td>2017-09-21</td>\n",
       "      <td>30495.0</td>\n",
       "      <td>3</td>\n",
       "      <td>21</td>\n",
       "      <td>9</td>\n",
       "      <td>3</td>\n",
       "      <td>3</td>\n",
       "      <td>38</td>\n",
       "      <td>1</td>\n",
       "      <td>0</td>\n",
       "      <td>0</td>\n",
       "      <td>0</td>\n",
       "      <td>0</td>\n",
       "      <td>0</td>\n",
       "    </tr>\n",
       "    <tr>\n",
       "      <td>2017-09-22</td>\n",
       "      <td>2017-09-22</td>\n",
       "      <td>29895.0</td>\n",
       "      <td>4</td>\n",
       "      <td>22</td>\n",
       "      <td>9</td>\n",
       "      <td>3</td>\n",
       "      <td>4</td>\n",
       "      <td>38</td>\n",
       "      <td>1</td>\n",
       "      <td>0</td>\n",
       "      <td>0</td>\n",
       "      <td>0</td>\n",
       "      <td>0</td>\n",
       "      <td>0</td>\n",
       "    </tr>\n",
       "    <tr>\n",
       "      <td>2017-09-23</td>\n",
       "      <td>2017-09-23</td>\n",
       "      <td>7052.0</td>\n",
       "      <td>5</td>\n",
       "      <td>23</td>\n",
       "      <td>9</td>\n",
       "      <td>3</td>\n",
       "      <td>5</td>\n",
       "      <td>38</td>\n",
       "      <td>0</td>\n",
       "      <td>0</td>\n",
       "      <td>0</td>\n",
       "      <td>0</td>\n",
       "      <td>0</td>\n",
       "      <td>0</td>\n",
       "    </tr>\n",
       "  </tbody>\n",
       "</table>\n",
       "<p>2705 rows × 14 columns</p>\n",
       "</div>"
      ],
      "text/plain": [
       "                 date  daily_entries  dayofweek  day  month  quarter  \\\n",
       "datetime                                                               \n",
       "2010-04-17 2010-04-17            0.0          5   17      4        2   \n",
       "2010-04-18 2010-04-18        20546.0          6   18      4        2   \n",
       "2010-04-19 2010-04-19        29630.0          0   19      4        2   \n",
       "2010-04-20 2010-04-20        33551.0          1   20      4        2   \n",
       "2010-04-21 2010-04-21        34595.0          2   21      4        2   \n",
       "...               ...            ...        ...  ...    ...      ...   \n",
       "2017-09-19 2017-09-19        33264.0          1   19      9        3   \n",
       "2017-09-20 2017-09-20        33527.0          2   20      9        3   \n",
       "2017-09-21 2017-09-21        30495.0          3   21      9        3   \n",
       "2017-09-22 2017-09-22        29895.0          4   22      9        3   \n",
       "2017-09-23 2017-09-23         7052.0          5   23      9        3   \n",
       "\n",
       "            day_of_week  week_of_year  is_business_day  is_national_holiday  \\\n",
       "datetime                                                                      \n",
       "2010-04-17            5            15                0                    0   \n",
       "2010-04-18            6            15                0                    0   \n",
       "2010-04-19            0            16                1                    0   \n",
       "2010-04-20            1            16                1                    0   \n",
       "2010-04-21            2            16                1                    0   \n",
       "...                 ...           ...              ...                  ...   \n",
       "2017-09-19            1            38                1                    0   \n",
       "2017-09-20            2            38                1                    0   \n",
       "2017-09-21            3            38                1                    0   \n",
       "2017-09-22            4            38                1                    0   \n",
       "2017-09-23            5            38                0                    0   \n",
       "\n",
       "            is_month_start  is_month_end  is_quarter_start  is_quarter_end  \n",
       "datetime                                                                    \n",
       "2010-04-17               0             0                 0               0  \n",
       "2010-04-18               0             0                 0               0  \n",
       "2010-04-19               0             0                 0               0  \n",
       "2010-04-20               0             0                 0               0  \n",
       "2010-04-21               0             0                 0               0  \n",
       "...                    ...           ...               ...             ...  \n",
       "2017-09-19               0             0                 0               0  \n",
       "2017-09-20               0             0                 0               0  \n",
       "2017-09-21               0             0                 0               0  \n",
       "2017-09-22               0             0                 0               0  \n",
       "2017-09-23               0             0                 0               0  \n",
       "\n",
       "[2705 rows x 14 columns]"
      ]
     },
     "execution_count": 188,
     "metadata": {},
     "output_type": "execute_result"
    }
   ],
   "source": [
    "generate_date_features(df_model, 2010,2017)"
   ]
  },
  {
   "cell_type": "code",
   "execution_count": 227,
   "metadata": {},
   "outputs": [],
   "source": [
    "df_model= df_model.replace([np.inf, -np.inf], 0)"
   ]
  },
  {
   "cell_type": "code",
   "execution_count": 190,
   "metadata": {
    "scrolled": true
   },
   "outputs": [
    {
     "data": {
      "text/html": [
       "<div>\n",
       "<style scoped>\n",
       "    .dataframe tbody tr th:only-of-type {\n",
       "        vertical-align: middle;\n",
       "    }\n",
       "\n",
       "    .dataframe tbody tr th {\n",
       "        vertical-align: top;\n",
       "    }\n",
       "\n",
       "    .dataframe thead th {\n",
       "        text-align: right;\n",
       "    }\n",
       "</style>\n",
       "<table border=\"1\" class=\"dataframe\">\n",
       "  <thead>\n",
       "    <tr style=\"text-align: right;\">\n",
       "      <th></th>\n",
       "      <th>date</th>\n",
       "      <th>daily_entries</th>\n",
       "      <th>dayofweek</th>\n",
       "      <th>day</th>\n",
       "      <th>month</th>\n",
       "      <th>quarter</th>\n",
       "      <th>day_of_week</th>\n",
       "      <th>week_of_year</th>\n",
       "      <th>is_business_day</th>\n",
       "      <th>is_national_holiday</th>\n",
       "      <th>...</th>\n",
       "      <th>lag_5</th>\n",
       "      <th>lag_6</th>\n",
       "      <th>lag_7</th>\n",
       "      <th>lag_rate_1</th>\n",
       "      <th>lag_rate_2</th>\n",
       "      <th>lag_rate_3</th>\n",
       "      <th>lag_rate_4</th>\n",
       "      <th>lag_rate_5</th>\n",
       "      <th>lag_rate_6</th>\n",
       "      <th>lag_rate_7</th>\n",
       "    </tr>\n",
       "    <tr>\n",
       "      <th>datetime</th>\n",
       "      <th></th>\n",
       "      <th></th>\n",
       "      <th></th>\n",
       "      <th></th>\n",
       "      <th></th>\n",
       "      <th></th>\n",
       "      <th></th>\n",
       "      <th></th>\n",
       "      <th></th>\n",
       "      <th></th>\n",
       "      <th></th>\n",
       "      <th></th>\n",
       "      <th></th>\n",
       "      <th></th>\n",
       "      <th></th>\n",
       "      <th></th>\n",
       "      <th></th>\n",
       "      <th></th>\n",
       "      <th></th>\n",
       "      <th></th>\n",
       "      <th></th>\n",
       "    </tr>\n",
       "  </thead>\n",
       "  <tbody>\n",
       "    <tr>\n",
       "      <td>2010-04-17</td>\n",
       "      <td>2010-04-17</td>\n",
       "      <td>0.0</td>\n",
       "      <td>5</td>\n",
       "      <td>17</td>\n",
       "      <td>4</td>\n",
       "      <td>2</td>\n",
       "      <td>5</td>\n",
       "      <td>15</td>\n",
       "      <td>0</td>\n",
       "      <td>0</td>\n",
       "      <td>...</td>\n",
       "      <td>34542.0</td>\n",
       "      <td>34171.0</td>\n",
       "      <td>8238.0</td>\n",
       "      <td>inf</td>\n",
       "      <td>inf</td>\n",
       "      <td>inf</td>\n",
       "      <td>inf</td>\n",
       "      <td>inf</td>\n",
       "      <td>inf</td>\n",
       "      <td>inf</td>\n",
       "    </tr>\n",
       "    <tr>\n",
       "      <td>2010-04-18</td>\n",
       "      <td>2010-04-18</td>\n",
       "      <td>20546.0</td>\n",
       "      <td>6</td>\n",
       "      <td>18</td>\n",
       "      <td>4</td>\n",
       "      <td>2</td>\n",
       "      <td>6</td>\n",
       "      <td>15</td>\n",
       "      <td>0</td>\n",
       "      <td>0</td>\n",
       "      <td>...</td>\n",
       "      <td>34171.0</td>\n",
       "      <td>8238.0</td>\n",
       "      <td>232395.0</td>\n",
       "      <td>1.442130</td>\n",
       "      <td>1.632970</td>\n",
       "      <td>1.683783</td>\n",
       "      <td>1.681203</td>\n",
       "      <td>1.663146</td>\n",
       "      <td>0.400954</td>\n",
       "      <td>11.310961</td>\n",
       "    </tr>\n",
       "    <tr>\n",
       "      <td>2010-04-19</td>\n",
       "      <td>2010-04-19</td>\n",
       "      <td>29630.0</td>\n",
       "      <td>0</td>\n",
       "      <td>19</td>\n",
       "      <td>4</td>\n",
       "      <td>2</td>\n",
       "      <td>0</td>\n",
       "      <td>16</td>\n",
       "      <td>1</td>\n",
       "      <td>0</td>\n",
       "      <td>...</td>\n",
       "      <td>8238.0</td>\n",
       "      <td>232395.0</td>\n",
       "      <td>21222.0</td>\n",
       "      <td>1.132332</td>\n",
       "      <td>1.167567</td>\n",
       "      <td>1.165778</td>\n",
       "      <td>1.153257</td>\n",
       "      <td>0.278029</td>\n",
       "      <td>7.843233</td>\n",
       "      <td>0.716234</td>\n",
       "    </tr>\n",
       "    <tr>\n",
       "      <td>2010-04-20</td>\n",
       "      <td>2010-04-20</td>\n",
       "      <td>33551.0</td>\n",
       "      <td>1</td>\n",
       "      <td>20</td>\n",
       "      <td>4</td>\n",
       "      <td>2</td>\n",
       "      <td>1</td>\n",
       "      <td>16</td>\n",
       "      <td>1</td>\n",
       "      <td>0</td>\n",
       "      <td>...</td>\n",
       "      <td>232395.0</td>\n",
       "      <td>21222.0</td>\n",
       "      <td>29259.0</td>\n",
       "      <td>1.031117</td>\n",
       "      <td>1.029537</td>\n",
       "      <td>1.018479</td>\n",
       "      <td>0.245537</td>\n",
       "      <td>6.926619</td>\n",
       "      <td>0.632530</td>\n",
       "      <td>0.872075</td>\n",
       "    </tr>\n",
       "    <tr>\n",
       "      <td>2010-04-21</td>\n",
       "      <td>2010-04-21</td>\n",
       "      <td>34595.0</td>\n",
       "      <td>2</td>\n",
       "      <td>21</td>\n",
       "      <td>4</td>\n",
       "      <td>2</td>\n",
       "      <td>2</td>\n",
       "      <td>16</td>\n",
       "      <td>1</td>\n",
       "      <td>0</td>\n",
       "      <td>...</td>\n",
       "      <td>21222.0</td>\n",
       "      <td>29259.0</td>\n",
       "      <td>33990.0</td>\n",
       "      <td>0.998468</td>\n",
       "      <td>0.987744</td>\n",
       "      <td>0.238127</td>\n",
       "      <td>6.717589</td>\n",
       "      <td>0.613441</td>\n",
       "      <td>0.845758</td>\n",
       "      <td>0.982512</td>\n",
       "    </tr>\n",
       "    <tr>\n",
       "      <td>...</td>\n",
       "      <td>...</td>\n",
       "      <td>...</td>\n",
       "      <td>...</td>\n",
       "      <td>...</td>\n",
       "      <td>...</td>\n",
       "      <td>...</td>\n",
       "      <td>...</td>\n",
       "      <td>...</td>\n",
       "      <td>...</td>\n",
       "      <td>...</td>\n",
       "      <td>...</td>\n",
       "      <td>...</td>\n",
       "      <td>...</td>\n",
       "      <td>...</td>\n",
       "      <td>...</td>\n",
       "      <td>...</td>\n",
       "      <td>...</td>\n",
       "      <td>...</td>\n",
       "      <td>...</td>\n",
       "      <td>...</td>\n",
       "      <td>...</td>\n",
       "    </tr>\n",
       "    <tr>\n",
       "      <td>2017-09-19</td>\n",
       "      <td>2017-09-19</td>\n",
       "      <td>33264.0</td>\n",
       "      <td>1</td>\n",
       "      <td>19</td>\n",
       "      <td>9</td>\n",
       "      <td>3</td>\n",
       "      <td>1</td>\n",
       "      <td>38</td>\n",
       "      <td>1</td>\n",
       "      <td>0</td>\n",
       "      <td>...</td>\n",
       "      <td>0.0</td>\n",
       "      <td>0.0</td>\n",
       "      <td>0.0</td>\n",
       "      <td>1.007906</td>\n",
       "      <td>0.916757</td>\n",
       "      <td>0.898719</td>\n",
       "      <td>0.212001</td>\n",
       "      <td>0.000000</td>\n",
       "      <td>0.000000</td>\n",
       "      <td>0.000000</td>\n",
       "    </tr>\n",
       "    <tr>\n",
       "      <td>2017-09-20</td>\n",
       "      <td>2017-09-20</td>\n",
       "      <td>33527.0</td>\n",
       "      <td>2</td>\n",
       "      <td>20</td>\n",
       "      <td>9</td>\n",
       "      <td>3</td>\n",
       "      <td>2</td>\n",
       "      <td>38</td>\n",
       "      <td>1</td>\n",
       "      <td>0</td>\n",
       "      <td>...</td>\n",
       "      <td>0.0</td>\n",
       "      <td>0.0</td>\n",
       "      <td>0.0</td>\n",
       "      <td>0.909565</td>\n",
       "      <td>0.891669</td>\n",
       "      <td>0.210338</td>\n",
       "      <td>0.000000</td>\n",
       "      <td>0.000000</td>\n",
       "      <td>0.000000</td>\n",
       "      <td>0.000000</td>\n",
       "    </tr>\n",
       "    <tr>\n",
       "      <td>2017-09-21</td>\n",
       "      <td>2017-09-21</td>\n",
       "      <td>30495.0</td>\n",
       "      <td>3</td>\n",
       "      <td>21</td>\n",
       "      <td>9</td>\n",
       "      <td>3</td>\n",
       "      <td>3</td>\n",
       "      <td>38</td>\n",
       "      <td>1</td>\n",
       "      <td>0</td>\n",
       "      <td>...</td>\n",
       "      <td>0.0</td>\n",
       "      <td>0.0</td>\n",
       "      <td>0.0</td>\n",
       "      <td>0.980325</td>\n",
       "      <td>0.231251</td>\n",
       "      <td>0.000000</td>\n",
       "      <td>0.000000</td>\n",
       "      <td>0.000000</td>\n",
       "      <td>0.000000</td>\n",
       "      <td>0.000000</td>\n",
       "    </tr>\n",
       "    <tr>\n",
       "      <td>2017-09-22</td>\n",
       "      <td>2017-09-22</td>\n",
       "      <td>29895.0</td>\n",
       "      <td>4</td>\n",
       "      <td>22</td>\n",
       "      <td>9</td>\n",
       "      <td>3</td>\n",
       "      <td>4</td>\n",
       "      <td>38</td>\n",
       "      <td>1</td>\n",
       "      <td>0</td>\n",
       "      <td>...</td>\n",
       "      <td>0.0</td>\n",
       "      <td>0.0</td>\n",
       "      <td>0.0</td>\n",
       "      <td>0.235892</td>\n",
       "      <td>0.000000</td>\n",
       "      <td>0.000000</td>\n",
       "      <td>0.000000</td>\n",
       "      <td>0.000000</td>\n",
       "      <td>0.000000</td>\n",
       "      <td>0.000000</td>\n",
       "    </tr>\n",
       "    <tr>\n",
       "      <td>2017-09-23</td>\n",
       "      <td>2017-09-23</td>\n",
       "      <td>7052.0</td>\n",
       "      <td>5</td>\n",
       "      <td>23</td>\n",
       "      <td>9</td>\n",
       "      <td>3</td>\n",
       "      <td>5</td>\n",
       "      <td>38</td>\n",
       "      <td>0</td>\n",
       "      <td>0</td>\n",
       "      <td>...</td>\n",
       "      <td>0.0</td>\n",
       "      <td>0.0</td>\n",
       "      <td>0.0</td>\n",
       "      <td>0.000000</td>\n",
       "      <td>0.000000</td>\n",
       "      <td>0.000000</td>\n",
       "      <td>0.000000</td>\n",
       "      <td>0.000000</td>\n",
       "      <td>0.000000</td>\n",
       "      <td>0.000000</td>\n",
       "    </tr>\n",
       "  </tbody>\n",
       "</table>\n",
       "<p>2705 rows × 28 columns</p>\n",
       "</div>"
      ],
      "text/plain": [
       "                 date  daily_entries  dayofweek  day  month  quarter  \\\n",
       "datetime                                                               \n",
       "2010-04-17 2010-04-17            0.0          5   17      4        2   \n",
       "2010-04-18 2010-04-18        20546.0          6   18      4        2   \n",
       "2010-04-19 2010-04-19        29630.0          0   19      4        2   \n",
       "2010-04-20 2010-04-20        33551.0          1   20      4        2   \n",
       "2010-04-21 2010-04-21        34595.0          2   21      4        2   \n",
       "...               ...            ...        ...  ...    ...      ...   \n",
       "2017-09-19 2017-09-19        33264.0          1   19      9        3   \n",
       "2017-09-20 2017-09-20        33527.0          2   20      9        3   \n",
       "2017-09-21 2017-09-21        30495.0          3   21      9        3   \n",
       "2017-09-22 2017-09-22        29895.0          4   22      9        3   \n",
       "2017-09-23 2017-09-23         7052.0          5   23      9        3   \n",
       "\n",
       "            day_of_week  week_of_year  is_business_day  is_national_holiday  \\\n",
       "datetime                                                                      \n",
       "2010-04-17            5            15                0                    0   \n",
       "2010-04-18            6            15                0                    0   \n",
       "2010-04-19            0            16                1                    0   \n",
       "2010-04-20            1            16                1                    0   \n",
       "2010-04-21            2            16                1                    0   \n",
       "...                 ...           ...              ...                  ...   \n",
       "2017-09-19            1            38                1                    0   \n",
       "2017-09-20            2            38                1                    0   \n",
       "2017-09-21            3            38                1                    0   \n",
       "2017-09-22            4            38                1                    0   \n",
       "2017-09-23            5            38                0                    0   \n",
       "\n",
       "            ...     lag_5     lag_6     lag_7  lag_rate_1  lag_rate_2  \\\n",
       "datetime    ...                                                         \n",
       "2010-04-17  ...   34542.0   34171.0    8238.0         inf         inf   \n",
       "2010-04-18  ...   34171.0    8238.0  232395.0    1.442130    1.632970   \n",
       "2010-04-19  ...    8238.0  232395.0   21222.0    1.132332    1.167567   \n",
       "2010-04-20  ...  232395.0   21222.0   29259.0    1.031117    1.029537   \n",
       "2010-04-21  ...   21222.0   29259.0   33990.0    0.998468    0.987744   \n",
       "...         ...       ...       ...       ...         ...         ...   \n",
       "2017-09-19  ...       0.0       0.0       0.0    1.007906    0.916757   \n",
       "2017-09-20  ...       0.0       0.0       0.0    0.909565    0.891669   \n",
       "2017-09-21  ...       0.0       0.0       0.0    0.980325    0.231251   \n",
       "2017-09-22  ...       0.0       0.0       0.0    0.235892    0.000000   \n",
       "2017-09-23  ...       0.0       0.0       0.0    0.000000    0.000000   \n",
       "\n",
       "            lag_rate_3  lag_rate_4  lag_rate_5  lag_rate_6  lag_rate_7  \n",
       "datetime                                                                \n",
       "2010-04-17         inf         inf         inf         inf         inf  \n",
       "2010-04-18    1.683783    1.681203    1.663146    0.400954   11.310961  \n",
       "2010-04-19    1.165778    1.153257    0.278029    7.843233    0.716234  \n",
       "2010-04-20    1.018479    0.245537    6.926619    0.632530    0.872075  \n",
       "2010-04-21    0.238127    6.717589    0.613441    0.845758    0.982512  \n",
       "...                ...         ...         ...         ...         ...  \n",
       "2017-09-19    0.898719    0.212001    0.000000    0.000000    0.000000  \n",
       "2017-09-20    0.210338    0.000000    0.000000    0.000000    0.000000  \n",
       "2017-09-21    0.000000    0.000000    0.000000    0.000000    0.000000  \n",
       "2017-09-22    0.000000    0.000000    0.000000    0.000000    0.000000  \n",
       "2017-09-23    0.000000    0.000000    0.000000    0.000000    0.000000  \n",
       "\n",
       "[2705 rows x 28 columns]"
      ]
     },
     "execution_count": 190,
     "metadata": {},
     "output_type": "execute_result"
    }
   ],
   "source": [
    " generate_lags_features(df_model, 'daily_entries')"
   ]
  },
  {
   "cell_type": "code",
   "execution_count": 228,
   "metadata": {
    "scrolled": true
   },
   "outputs": [
    {
     "data": {
      "text/html": [
       "<div>\n",
       "<style scoped>\n",
       "    .dataframe tbody tr th:only-of-type {\n",
       "        vertical-align: middle;\n",
       "    }\n",
       "\n",
       "    .dataframe tbody tr th {\n",
       "        vertical-align: top;\n",
       "    }\n",
       "\n",
       "    .dataframe thead th {\n",
       "        text-align: right;\n",
       "    }\n",
       "</style>\n",
       "<table border=\"1\" class=\"dataframe\">\n",
       "  <thead>\n",
       "    <tr style=\"text-align: right;\">\n",
       "      <th></th>\n",
       "      <th>daily_entries</th>\n",
       "      <th>dayofweek</th>\n",
       "      <th>day</th>\n",
       "      <th>month</th>\n",
       "      <th>quarter</th>\n",
       "      <th>day_of_week</th>\n",
       "      <th>week_of_year</th>\n",
       "      <th>is_business_day</th>\n",
       "      <th>is_national_holiday</th>\n",
       "      <th>is_month_start</th>\n",
       "      <th>...</th>\n",
       "      <th>lag_6</th>\n",
       "      <th>lag_7</th>\n",
       "      <th>lag_rate_1</th>\n",
       "      <th>lag_rate_2</th>\n",
       "      <th>lag_rate_3</th>\n",
       "      <th>lag_rate_4</th>\n",
       "      <th>lag_rate_5</th>\n",
       "      <th>lag_rate_6</th>\n",
       "      <th>lag_rate_7</th>\n",
       "      <th>istrain</th>\n",
       "    </tr>\n",
       "  </thead>\n",
       "  <tbody>\n",
       "    <tr>\n",
       "      <td>count</td>\n",
       "      <td>2705.000000</td>\n",
       "      <td>2705.000000</td>\n",
       "      <td>2705.000000</td>\n",
       "      <td>2705.000000</td>\n",
       "      <td>2705.000000</td>\n",
       "      <td>2705.000000</td>\n",
       "      <td>2705.000000</td>\n",
       "      <td>2705.000000</td>\n",
       "      <td>2705.000000</td>\n",
       "      <td>2705.000000</td>\n",
       "      <td>...</td>\n",
       "      <td>2.705000e+03</td>\n",
       "      <td>2.705000e+03</td>\n",
       "      <td>2705.000000</td>\n",
       "      <td>2705.000000</td>\n",
       "      <td>2705.000000</td>\n",
       "      <td>2705.000000</td>\n",
       "      <td>2705.000000</td>\n",
       "      <td>2705.000000</td>\n",
       "      <td>2705.000000</td>\n",
       "      <td>2705.000000</td>\n",
       "    </tr>\n",
       "    <tr>\n",
       "      <td>mean</td>\n",
       "      <td>28607.834701</td>\n",
       "      <td>3.002218</td>\n",
       "      <td>15.713863</td>\n",
       "      <td>6.538632</td>\n",
       "      <td>2.512015</td>\n",
       "      <td>3.002218</td>\n",
       "      <td>26.621811</td>\n",
       "      <td>0.713494</td>\n",
       "      <td>0.008503</td>\n",
       "      <td>0.032902</td>\n",
       "      <td>...</td>\n",
       "      <td>3.825165e+04</td>\n",
       "      <td>3.823902e+04</td>\n",
       "      <td>2.237007</td>\n",
       "      <td>3.190015</td>\n",
       "      <td>6.085326</td>\n",
       "      <td>7.161244</td>\n",
       "      <td>9.857922</td>\n",
       "      <td>10.409749</td>\n",
       "      <td>10.741480</td>\n",
       "      <td>0.692791</td>\n",
       "    </tr>\n",
       "    <tr>\n",
       "      <td>std</td>\n",
       "      <td>6644.040065</td>\n",
       "      <td>2.000369</td>\n",
       "      <td>8.796485</td>\n",
       "      <td>3.372038</td>\n",
       "      <td>1.092582</td>\n",
       "      <td>2.000369</td>\n",
       "      <td>14.711728</td>\n",
       "      <td>0.452212</td>\n",
       "      <td>0.091835</td>\n",
       "      <td>0.178413</td>\n",
       "      <td>...</td>\n",
       "      <td>4.922005e+05</td>\n",
       "      <td>4.922010e+05</td>\n",
       "      <td>47.722212</td>\n",
       "      <td>81.345687</td>\n",
       "      <td>159.121243</td>\n",
       "      <td>201.193110</td>\n",
       "      <td>333.601493</td>\n",
       "      <td>375.156605</td>\n",
       "      <td>404.196581</td>\n",
       "      <td>0.824843</td>\n",
       "    </tr>\n",
       "    <tr>\n",
       "      <td>min</td>\n",
       "      <td>1.000000</td>\n",
       "      <td>0.000000</td>\n",
       "      <td>1.000000</td>\n",
       "      <td>1.000000</td>\n",
       "      <td>1.000000</td>\n",
       "      <td>0.000000</td>\n",
       "      <td>1.000000</td>\n",
       "      <td>0.000000</td>\n",
       "      <td>0.000000</td>\n",
       "      <td>0.000000</td>\n",
       "      <td>...</td>\n",
       "      <td>0.000000e+00</td>\n",
       "      <td>0.000000e+00</td>\n",
       "      <td>0.000000</td>\n",
       "      <td>0.000000</td>\n",
       "      <td>0.000000</td>\n",
       "      <td>0.000000</td>\n",
       "      <td>0.000000</td>\n",
       "      <td>0.000000</td>\n",
       "      <td>0.000000</td>\n",
       "      <td>-1.000000</td>\n",
       "    </tr>\n",
       "    <tr>\n",
       "      <td>25%</td>\n",
       "      <td>23970.000000</td>\n",
       "      <td>1.000000</td>\n",
       "      <td>8.000000</td>\n",
       "      <td>4.000000</td>\n",
       "      <td>2.000000</td>\n",
       "      <td>1.000000</td>\n",
       "      <td>14.000000</td>\n",
       "      <td>0.000000</td>\n",
       "      <td>0.000000</td>\n",
       "      <td>0.000000</td>\n",
       "      <td>...</td>\n",
       "      <td>2.373700e+04</td>\n",
       "      <td>2.373600e+04</td>\n",
       "      <td>0.810724</td>\n",
       "      <td>0.743194</td>\n",
       "      <td>0.734245</td>\n",
       "      <td>0.751678</td>\n",
       "      <td>0.823073</td>\n",
       "      <td>0.864015</td>\n",
       "      <td>0.962341</td>\n",
       "      <td>0.000000</td>\n",
       "    </tr>\n",
       "    <tr>\n",
       "      <td>50%</td>\n",
       "      <td>30038.000000</td>\n",
       "      <td>3.000000</td>\n",
       "      <td>16.000000</td>\n",
       "      <td>7.000000</td>\n",
       "      <td>3.000000</td>\n",
       "      <td>3.000000</td>\n",
       "      <td>27.000000</td>\n",
       "      <td>1.000000</td>\n",
       "      <td>0.000000</td>\n",
       "      <td>0.000000</td>\n",
       "      <td>...</td>\n",
       "      <td>3.002000e+04</td>\n",
       "      <td>3.001000e+04</td>\n",
       "      <td>1.008393</td>\n",
       "      <td>1.027480</td>\n",
       "      <td>1.023314</td>\n",
       "      <td>0.973689</td>\n",
       "      <td>0.968780</td>\n",
       "      <td>0.991001</td>\n",
       "      <td>1.000092</td>\n",
       "      <td>1.000000</td>\n",
       "    </tr>\n",
       "    <tr>\n",
       "      <td>75%</td>\n",
       "      <td>34396.000000</td>\n",
       "      <td>5.000000</td>\n",
       "      <td>23.000000</td>\n",
       "      <td>9.000000</td>\n",
       "      <td>3.000000</td>\n",
       "      <td>5.000000</td>\n",
       "      <td>39.000000</td>\n",
       "      <td>1.000000</td>\n",
       "      <td>0.000000</td>\n",
       "      <td>0.000000</td>\n",
       "      <td>...</td>\n",
       "      <td>3.443500e+04</td>\n",
       "      <td>3.443500e+04</td>\n",
       "      <td>1.140404</td>\n",
       "      <td>1.200770</td>\n",
       "      <td>1.316783</td>\n",
       "      <td>1.355144</td>\n",
       "      <td>1.340282</td>\n",
       "      <td>1.213866</td>\n",
       "      <td>1.036740</td>\n",
       "      <td>1.000000</td>\n",
       "    </tr>\n",
       "    <tr>\n",
       "      <td>max</td>\n",
       "      <td>40160.000000</td>\n",
       "      <td>6.000000</td>\n",
       "      <td>31.000000</td>\n",
       "      <td>12.000000</td>\n",
       "      <td>4.000000</td>\n",
       "      <td>6.000000</td>\n",
       "      <td>53.000000</td>\n",
       "      <td>1.000000</td>\n",
       "      <td>1.000000</td>\n",
       "      <td>1.000000</td>\n",
       "      <td>...</td>\n",
       "      <td>2.562114e+07</td>\n",
       "      <td>2.562114e+07</td>\n",
       "      <td>2353.285714</td>\n",
       "      <td>4074.000000</td>\n",
       "      <td>6893.000000</td>\n",
       "      <td>9281.000000</td>\n",
       "      <td>16680.000000</td>\n",
       "      <td>19117.000000</td>\n",
       "      <td>20747.000000</td>\n",
       "      <td>2.000000</td>\n",
       "    </tr>\n",
       "  </tbody>\n",
       "</table>\n",
       "<p>8 rows × 28 columns</p>\n",
       "</div>"
      ],
      "text/plain": [
       "       daily_entries    dayofweek          day        month      quarter  \\\n",
       "count    2705.000000  2705.000000  2705.000000  2705.000000  2705.000000   \n",
       "mean    28607.834701     3.002218    15.713863     6.538632     2.512015   \n",
       "std      6644.040065     2.000369     8.796485     3.372038     1.092582   \n",
       "min         1.000000     0.000000     1.000000     1.000000     1.000000   \n",
       "25%     23970.000000     1.000000     8.000000     4.000000     2.000000   \n",
       "50%     30038.000000     3.000000    16.000000     7.000000     3.000000   \n",
       "75%     34396.000000     5.000000    23.000000     9.000000     3.000000   \n",
       "max     40160.000000     6.000000    31.000000    12.000000     4.000000   \n",
       "\n",
       "       day_of_week  week_of_year  is_business_day  is_national_holiday  \\\n",
       "count  2705.000000   2705.000000      2705.000000          2705.000000   \n",
       "mean      3.002218     26.621811         0.713494             0.008503   \n",
       "std       2.000369     14.711728         0.452212             0.091835   \n",
       "min       0.000000      1.000000         0.000000             0.000000   \n",
       "25%       1.000000     14.000000         0.000000             0.000000   \n",
       "50%       3.000000     27.000000         1.000000             0.000000   \n",
       "75%       5.000000     39.000000         1.000000             0.000000   \n",
       "max       6.000000     53.000000         1.000000             1.000000   \n",
       "\n",
       "       is_month_start  ...         lag_6         lag_7   lag_rate_1  \\\n",
       "count     2705.000000  ...  2.705000e+03  2.705000e+03  2705.000000   \n",
       "mean         0.032902  ...  3.825165e+04  3.823902e+04     2.237007   \n",
       "std          0.178413  ...  4.922005e+05  4.922010e+05    47.722212   \n",
       "min          0.000000  ...  0.000000e+00  0.000000e+00     0.000000   \n",
       "25%          0.000000  ...  2.373700e+04  2.373600e+04     0.810724   \n",
       "50%          0.000000  ...  3.002000e+04  3.001000e+04     1.008393   \n",
       "75%          0.000000  ...  3.443500e+04  3.443500e+04     1.140404   \n",
       "max          1.000000  ...  2.562114e+07  2.562114e+07  2353.285714   \n",
       "\n",
       "        lag_rate_2   lag_rate_3   lag_rate_4    lag_rate_5    lag_rate_6  \\\n",
       "count  2705.000000  2705.000000  2705.000000   2705.000000   2705.000000   \n",
       "mean      3.190015     6.085326     7.161244      9.857922     10.409749   \n",
       "std      81.345687   159.121243   201.193110    333.601493    375.156605   \n",
       "min       0.000000     0.000000     0.000000      0.000000      0.000000   \n",
       "25%       0.743194     0.734245     0.751678      0.823073      0.864015   \n",
       "50%       1.027480     1.023314     0.973689      0.968780      0.991001   \n",
       "75%       1.200770     1.316783     1.355144      1.340282      1.213866   \n",
       "max    4074.000000  6893.000000  9281.000000  16680.000000  19117.000000   \n",
       "\n",
       "         lag_rate_7      istrain  \n",
       "count   2705.000000  2705.000000  \n",
       "mean      10.741480     0.692791  \n",
       "std      404.196581     0.824843  \n",
       "min        0.000000    -1.000000  \n",
       "25%        0.962341     0.000000  \n",
       "50%        1.000092     1.000000  \n",
       "75%        1.036740     1.000000  \n",
       "max    20747.000000     2.000000  \n",
       "\n",
       "[8 rows x 28 columns]"
      ]
     },
     "execution_count": 228,
     "metadata": {},
     "output_type": "execute_result"
    }
   ],
   "source": [
    "df_model.describe()"
   ]
  },
  {
   "cell_type": "markdown",
   "metadata": {},
   "source": [
    "**Análise de correlação das variáveis criadas**"
   ]
  },
  {
   "cell_type": "code",
   "execution_count": 192,
   "metadata": {
    "scrolled": true
   },
   "outputs": [
    {
     "data": {
      "image/png": "[encoded data removed]",
      "text/plain": [
       "<Figure size 432x288 with 2 Axes>"
      ]
     },
     "metadata": {
      "needs_background": "light"
     },
     "output_type": "display_data"
    }
   ],
   "source": [
    "\n",
    "corr = df_model.corr()\n",
    "\n",
    "ax = sns.heatmap(\n",
    "    corr, \n",
    "    vmin=-1, vmax=1, center=0,\n",
    "    cmap=sns.diverging_palette(20, 220, n=200),\n",
    "    square=True\n",
    ")\n",
    "ax.set_xticklabels(\n",
    "    ax.get_xticklabels(),\n",
    "    rotation=45,\n",
    "    horizontalalignment='right'\n",
    ");\n",
    "\n"
   ]
  },
  {
   "cell_type": "code",
   "execution_count": 193,
   "metadata": {},
   "outputs": [
    {
     "data": {
      "text/plain": [
       "datetime\n",
       "2010-04-17    4\n",
       "2010-04-18    4\n",
       "2010-04-19    4\n",
       "2010-04-20    4\n",
       "2010-04-21    4\n",
       "Name: month, dtype: int64"
      ]
     },
     "execution_count": 193,
     "metadata": {},
     "output_type": "execute_result"
    }
   ],
   "source": [
    "df_model.month.head()"
   ]
  },
  {
   "cell_type": "code",
   "execution_count": 196,
   "metadata": {},
   "outputs": [],
   "source": [
    "df_model.loc[df_model.daily_entries> 2000000, \"daily_entries\"] = df_model.loc['2016-02-01':'2016-02-28'].daily_entries.mean()"
   ]
  },
  {
   "cell_type": "code",
   "execution_count": 197,
   "metadata": {},
   "outputs": [
    {
     "data": {
      "text/plain": [
       "26107.942396313367"
      ]
     },
     "execution_count": 197,
     "metadata": {},
     "output_type": "execute_result"
    }
   ],
   "source": [
    "df_model.loc['2016-01-01':'2016-01-31'].daily_entries.mean()"
   ]
  },
  {
   "cell_type": "code",
   "execution_count": 240,
   "metadata": {},
   "outputs": [
    {
     "data": {
      "text/plain": [
       "27367.540107731224"
      ]
     },
     "execution_count": 240,
     "metadata": {},
     "output_type": "execute_result"
    }
   ],
   "source": [
    "df_model.loc[df_model.index.year == 2016].daily_entries.mean()"
   ]
  },
  {
   "cell_type": "code",
   "execution_count": null,
   "metadata": {},
   "outputs": [],
   "source": [
    "sns.lineplot(data = df_model.loc[df_model.index.year == 2016].daily_entries)\n",
    "plt.show()\n",
    "\n"
   ]
  },
  {
   "cell_type": "code",
   "execution_count": 253,
   "metadata": {},
   "outputs": [
    {
     "data": {
      "text/plain": [
       "array([2011, 2012, 2013, 2014])"
      ]
     },
     "execution_count": 253,
     "metadata": {},
     "output_type": "execute_result"
    }
   ],
   "source": [
    "np.arange(2011,2015)"
   ]
  },
  {
   "cell_type": "markdown",
   "metadata": {},
   "source": [
    "**Tratamento de outliers**"
   ]
  },
  {
   "cell_type": "code",
   "execution_count": 202,
   "metadata": {},
   "outputs": [
    {
     "data": {
      "image/png": "[encoded data removed]",
      "text/plain": [
       "<Figure size 432x288 with 1 Axes>"
      ]
     },
     "metadata": {
      "needs_background": "light"
     },
     "output_type": "display_data"
    }
   ],
   "source": [
    "plt.boxplot(df_model.daily_entries)\n",
    "plt.show()"
   ]
  },
  {
   "cell_type": "code",
   "execution_count": 207,
   "metadata": {},
   "outputs": [
    {
     "data": {
      "text/plain": [
       "30038.0"
      ]
     },
     "execution_count": 207,
     "metadata": {},
     "output_type": "execute_result"
    }
   ],
   "source": [
    "df_model.daily_entries.median()"
   ]
  },
  {
   "cell_type": "code",
   "execution_count": 208,
   "metadata": {},
   "outputs": [],
   "source": [
    "df_model.loc[df_model.daily_entries> 50000, \"daily_entries\"] = df_model.daily_entries.median()\n"
   ]
  },
  {
   "cell_type": "code",
   "execution_count": 211,
   "metadata": {
    "scrolled": true
   },
   "outputs": [
    {
     "data": {
      "text/plain": [
       "28502.46514391339"
      ]
     },
     "execution_count": 211,
     "metadata": {},
     "output_type": "execute_result"
    }
   ],
   "source": [
    "df_model.daily_entries.mean()"
   ]
  },
  {
   "cell_type": "code",
   "execution_count": 210,
   "metadata": {
    "scrolled": true
   },
   "outputs": [
    {
     "data": {
      "image/png": "[encoded data removed]",
      "text/plain": [
       "<Figure size 432x288 with 1 Axes>"
      ]
     },
     "metadata": {
      "needs_background": "light"
     },
     "output_type": "display_data"
    }
   ],
   "source": [
    "plt.boxplot(df_model.daily_entries)\n",
    "plt.show()"
   ]
  },
  {
   "cell_type": "code",
   "execution_count": 219,
   "metadata": {
    "scrolled": true
   },
   "outputs": [
    {
     "data": {
      "image/png": "[encoded data removed]",
      "text/plain": [
       "<Figure size 432x288 with 1 Axes>"
      ]
     },
     "metadata": {
      "needs_background": "light"
     },
     "output_type": "display_data"
    }
   ],
   "source": [
    "plt.boxplot(df_model[df_model.daily_entries<10000].daily_entries)\n",
    "plt.show()"
   ]
  },
  {
   "cell_type": "code",
   "execution_count": 260,
   "metadata": {
    "scrolled": true
   },
   "outputs": [
    {
     "data": {
      "image/png": "[encoded data removed]",
      "text/plain": [
       "<Figure size 1440x360 with 1 Axes>"
      ]
     },
     "metadata": {
      "needs_background": "light"
     },
     "output_type": "display_data"
    }
   ],
   "source": [
    "from pylab import rcParams\n",
    "rcParams['figure.figsize'] = 20, 5\n",
    "fig, ax = plt.subplots();\n",
    "\n",
    "color_list= ['c', 'pink', 'green', 'violet']\n",
    "for year, color in zip(np.arange(2011,2015), color_list):\n",
    "\n",
    "    year = df_model.loc[df_model.index.year == year].daily_entries\n",
    "    year.plot(ax=ax, c=color, zorder=3);\n",
    "\n",
    "\n",
    "ax.legend(['known', 'future', 'value predicted']);\n",
    "ax.set_ylabel('# Pessoas que entraram na estação');"
   ]
  },
  {
   "cell_type": "code",
   "execution_count": 265,
   "metadata": {},
   "outputs": [
    {
     "data": {
      "image/png": "[encoded data removed]",
      "text/plain": [
       "<Figure size 1440x360 with 1 Axes>"
      ]
     },
     "metadata": {
      "needs_background": "light"
     },
     "output_type": "display_data"
    }
   ],
   "source": [
    "from pylab import rcParams\n",
    "rcParams['figure.figsize'] = 20, 5\n",
    "fig, ax = plt.subplots();\n",
    "\n",
    "color_list= ['c', 'pink', 'green', 'violet']\n",
    "\n",
    "for year, color in zip(np.arange(2011,2015), color_list):\n",
    "\n",
    "    year = df_model.loc[df_model.index.year == year].daily_entries\n",
    "    year.reset_index(drop = True).plot(ax=ax, c=color, zorder=3);\n",
    "\n",
    "\n",
    "ax.legend(np.arange(2011,2015));\n",
    "ax.set_ylabel('# Pessoas que entraram na estação');"
   ]
  },
  {
   "cell_type": "markdown",
   "metadata": {},
   "source": [
    "###  Baseline Model"
   ]
  },
  {
   "cell_type": "code",
   "execution_count": 220,
   "metadata": {},
   "outputs": [],
   "source": [
    "#train=1 , test=0,  valid=2\n",
    "df_model['istrain'] = 1\n",
    "df_model.loc[df_model.index.year == 2015,'istrain'] = 0\n",
    "df_model.loc[df_model.index.year == 2016,'istrain'] = -1\n",
    "df_model.loc[df_model.index.year == 2017,'istrain'] = 2\n"
   ]
  },
  {
   "cell_type": "code",
   "execution_count": 230,
   "metadata": {},
   "outputs": [],
   "source": [
    "#from sktime.datasets import load_airline\n",
    "#from sktime.forecasting.model_selection import temporal_train_test_split\n",
    "#from sktime.performance_metrics.forecasting import smape_loss\n",
    "#from sktime.forecasting.naive import NaiveForecaster\n",
    "\n",
    "\n",
    "X_train = df_model[df_model.istrain == 1].drop([ 'daily_entries','date', 'istrain'], axis = 1)\n",
    "y_train = df_model[df_model.istrain == 1].daily_entries\n",
    "\n",
    "X_test = df_model[df_model.istrain == 0].drop([ 'daily_entries', 'date','istrain'], axis = 1)\n",
    "y_test = df_model[df_model.istrain == 0].daily_entries\n",
    "\n",
    "X_valid = df_model[df_model.istrain == 2].drop([ 'daily_entries', 'date','istrain'], axis = 1)\n",
    "y_valid = df_model[df_model.istrain == 2].daily_entries\n"
   ]
  },
  {
   "cell_type": "code",
   "execution_count": 231,
   "metadata": {},
   "outputs": [],
   "source": [
    "random = 42"
   ]
  },
  {
   "cell_type": "code",
   "execution_count": 232,
   "metadata": {
    "scrolled": true
   },
   "outputs": [
    {
     "data": {
      "text/plain": [
       "((1708, 26), (1708,), (365, 26), (365,), (266, 26), (266,))"
      ]
     },
     "execution_count": 232,
     "metadata": {},
     "output_type": "execute_result"
    }
   ],
   "source": [
    "X_train.shape, y_train.shape, X_test.shape, y_test.shape, X_valid.shape, y_valid.shape"
   ]
  },
  {
   "cell_type": "code",
   "execution_count": 233,
   "metadata": {
    "scrolled": true
   },
   "outputs": [
    {
     "name": "stdout",
     "output_type": "stream",
     "text": [
      "Wall time: 331 ms\n"
     ]
    },
    {
     "data": {
      "text/plain": [
       "RandomForestRegressor(max_depth=15, n_estimators=30, random_state=42)"
      ]
     },
     "execution_count": 233,
     "metadata": {},
     "output_type": "execute_result"
    }
   ],
   "source": [
    "%%time \n",
    "\n",
    "rfr = RandomForestRegressor(n_estimators= 30, max_depth = 15,random_state= random)\n",
    "rfr.fit(X_train, y_train)\n"
   ]
  },
  {
   "cell_type": "code",
   "execution_count": 234,
   "metadata": {},
   "outputs": [],
   "source": [
    "y_pred_valid = rfr.predict(X_valid)\n",
    "y_pred_test = rfr.predict(X_test)\n"
   ]
  },
  {
   "cell_type": "code",
   "execution_count": 236,
   "metadata": {
    "scrolled": false
   },
   "outputs": [
    {
     "name": "stderr",
     "output_type": "stream",
     "text": [
      "C:\\ProgramData\\Anaconda3\\lib\\site-packages\\ipykernel_launcher.py:1: SettingWithCopyWarning: \n",
      "A value is trying to be set on a copy of a slice from a DataFrame\n",
      "\n",
      "See the caveats in the documentation: http://pandas.pydata.org/pandas-docs/stable/user_guide/indexing.html#returning-a-view-versus-a-copy\n",
      "  \"\"\"Entry point for launching an IPython kernel.\n",
      "C:\\ProgramData\\Anaconda3\\lib\\site-packages\\pandas\\core\\generic.py:9114: SettingWithCopyWarning: \n",
      "A value is trying to be set on a copy of a slice from a DataFrame\n",
      "\n",
      "See the caveats in the documentation: http://pandas.pydata.org/pandas-docs/stable/user_guide/indexing.html#returning-a-view-versus-a-copy\n",
      "  self._update_inplace(new_data)\n"
     ]
    },
    {
     "data": {
      "image/png": "[encoded data removed]",
      "text/plain": [
       "<Figure size 432x288 with 1 Axes>"
      ]
     },
     "metadata": {
      "needs_background": "light"
     },
     "output_type": "display_data"
    }
   ],
   "source": [
    "y_test[y_test>20000000] = y_test.mean()\n",
    "plt.boxplot(y_test.values)\n",
    "plt.show()"
   ]
  },
  {
   "cell_type": "code",
   "execution_count": 237,
   "metadata": {
    "scrolled": false
   },
   "outputs": [
    {
     "name": "stdout",
     "output_type": "stream",
     "text": [
      "Explained Variance Score 0.9270863506042553\n",
      "Max Error: 6995.992083333331\n",
      "Mean Absolute Error: 1379.7007730599873\n",
      "Root Mean Squared Error: 2235.5366380117403\n",
      "Median Squared Error: 368.66507936507696\n",
      "Mean Squared Log Error: 0.009422329657075684\n",
      "Root Mean Squared Log Error: 0.0970686852546983\n"
     ]
    }
   ],
   "source": [
    "\n",
    "print('Explained Variance Score', explained_variance_score(y_test, y_pred_test)) \n",
    "#The best possible score is 1.0, lower values are worse.\n",
    "print('Max Error:', (max_error(y_test, y_pred_test)))\n",
    "# maior real - predito\n",
    "print('Mean Absolute Error:', mean_absolute_error(y_test, y_pred_test))\n",
    "# MAE = (real - predito) / n, erro médio\n",
    "print('Root Mean Squared Error:', np.sqrt(mse(y_test, y_pred_test)))\n",
    "# RMSE = raiz do quadrado do anterior\n",
    "print('Median Squared Error:', median_absolute_error(y_test, y_pred_test))\n",
    "# mediana dos (real - predito)\n",
    "print('Mean Squared Log Error:', msle(y_test, y_pred_test))\n",
    "print('Root Mean Squared Log Error:', np.sqrt(msle(y_test, y_pred_test)))\n",
    "\n",
    "#print('R² score:', r2_score(y_test, y_pred_test))"
   ]
  },
  {
   "cell_type": "code",
   "execution_count": 80,
   "metadata": {},
   "outputs": [
    {
     "data": {
      "text/plain": [
       "Index(['lag_1', 'lag_2', 'lag_3', 'lag_4', 'lag_5', 'lag_6', 'lag_7',\n",
       "       'lag_rate_1', 'lag_rate_2', 'lag_rate_3', 'lag_rate_4', 'lag_rate_5',\n",
       "       'lag_rate_6', 'lag_rate_7', 'dayofweek', 'day', 'month', 'quarter',\n",
       "       'day_of_week', 'week_of_year', 'is_business_day', 'is_national_holiday',\n",
       "       'is_month_start', 'is_month_end', 'is_quarter_start', 'is_quarter_end'],\n",
       "      dtype='object')"
      ]
     },
     "execution_count": 80,
     "metadata": {},
     "output_type": "execute_result"
    }
   ],
   "source": [
    "X_train.columns"
   ]
  },
  {
   "cell_type": "code",
   "execution_count": 87,
   "metadata": {
    "scrolled": true
   },
   "outputs": [
    {
     "data": {
      "text/html": [
       "<div>\n",
       "<style scoped>\n",
       "    .dataframe tbody tr th:only-of-type {\n",
       "        vertical-align: middle;\n",
       "    }\n",
       "\n",
       "    .dataframe tbody tr th {\n",
       "        vertical-align: top;\n",
       "    }\n",
       "\n",
       "    .dataframe thead th {\n",
       "        text-align: right;\n",
       "    }\n",
       "</style>\n",
       "<table border=\"1\" class=\"dataframe\">\n",
       "  <thead>\n",
       "    <tr style=\"text-align: right;\">\n",
       "      <th></th>\n",
       "      <th>Features</th>\n",
       "      <th>f_importances</th>\n",
       "    </tr>\n",
       "  </thead>\n",
       "  <tbody>\n",
       "    <tr>\n",
       "      <td>11</td>\n",
       "      <td>lag_rate_5</td>\n",
       "      <td>0.188313</td>\n",
       "    </tr>\n",
       "    <tr>\n",
       "      <td>5</td>\n",
       "      <td>lag_6</td>\n",
       "      <td>0.129558</td>\n",
       "    </tr>\n",
       "    <tr>\n",
       "      <td>7</td>\n",
       "      <td>lag_rate_1</td>\n",
       "      <td>0.117604</td>\n",
       "    </tr>\n",
       "    <tr>\n",
       "      <td>4</td>\n",
       "      <td>lag_5</td>\n",
       "      <td>0.098721</td>\n",
       "    </tr>\n",
       "    <tr>\n",
       "      <td>2</td>\n",
       "      <td>lag_3</td>\n",
       "      <td>0.064125</td>\n",
       "    </tr>\n",
       "    <tr>\n",
       "      <td>12</td>\n",
       "      <td>lag_rate_6</td>\n",
       "      <td>0.057424</td>\n",
       "    </tr>\n",
       "    <tr>\n",
       "      <td>10</td>\n",
       "      <td>lag_rate_4</td>\n",
       "      <td>0.051643</td>\n",
       "    </tr>\n",
       "    <tr>\n",
       "      <td>9</td>\n",
       "      <td>lag_rate_3</td>\n",
       "      <td>0.050962</td>\n",
       "    </tr>\n",
       "    <tr>\n",
       "      <td>13</td>\n",
       "      <td>lag_rate_7</td>\n",
       "      <td>0.043746</td>\n",
       "    </tr>\n",
       "    <tr>\n",
       "      <td>8</td>\n",
       "      <td>lag_rate_2</td>\n",
       "      <td>0.039349</td>\n",
       "    </tr>\n",
       "  </tbody>\n",
       "</table>\n",
       "</div>"
      ],
      "text/plain": [
       "      Features  f_importances\n",
       "11  lag_rate_5       0.188313\n",
       "5        lag_6       0.129558\n",
       "7   lag_rate_1       0.117604\n",
       "4        lag_5       0.098721\n",
       "2        lag_3       0.064125\n",
       "12  lag_rate_6       0.057424\n",
       "10  lag_rate_4       0.051643\n",
       "9   lag_rate_3       0.050962\n",
       "13  lag_rate_7       0.043746\n",
       "8   lag_rate_2       0.039349"
      ]
     },
     "execution_count": 87,
     "metadata": {},
     "output_type": "execute_result"
    }
   ],
   "source": [
    "pd.DataFrame({'Features': X_train.columns, 'f_importances':rfr.feature_importances_}).sort_values(by = 'f_importances', ascending = False).head(10)"
   ]
  },
  {
   "cell_type": "code",
   "execution_count": 419,
   "metadata": {},
   "outputs": [],
   "source": [
    "df_pred = pd.DataFrame()\n",
    "#df_pred['datetime'] =  y_test.index\n",
    "df_pred['month'] =  y_test.index.month\n",
    "df_pred['day'] =  y_test.index.day\n",
    "df_pred['y_test'] = y_test.values\n",
    "df_pred['y_pred_test'] = y_pred_test"
   ]
  },
  {
   "cell_type": "code",
   "execution_count": 358,
   "metadata": {},
   "outputs": [],
   "source": [
    "df_pred['y_train_2014'] = y_train[y_train.index.year == 2014]"
   ]
  },
  {
   "cell_type": "code",
   "execution_count": 332,
   "metadata": {
    "scrolled": true
   },
   "outputs": [
    {
     "data": {
      "text/plain": [
       "array([33071., 34980., 35374., 36146., 27133., 21379., 29744., 35276.,\n",
       "       36331., 35604., 36235., 29273., 21709., 29473., 34514., 35707.,\n",
       "       35477., 35360., 27137., 21164., 28279., 32575., 32289., 26339.,\n",
       "       16537., 16541., 17342., 23403., 27368., 28793., 28389.])"
      ]
     },
     "execution_count": 332,
     "metadata": {},
     "output_type": "execute_result"
    }
   ],
   "source": [
    "y_train[(y_train.index.year == 2015)\n",
    "       &(y_train.index.month == 12) ].values"
   ]
  },
  {
   "cell_type": "code",
   "execution_count": 364,
   "metadata": {
    "collapsed": true
   },
   "outputs": [
    {
     "data": {
      "text/html": [
       "<div>\n",
       "<style scoped>\n",
       "    .dataframe tbody tr th:only-of-type {\n",
       "        vertical-align: middle;\n",
       "    }\n",
       "\n",
       "    .dataframe tbody tr th {\n",
       "        vertical-align: top;\n",
       "    }\n",
       "\n",
       "    .dataframe thead th {\n",
       "        text-align: right;\n",
       "    }\n",
       "</style>\n",
       "<table border=\"1\" class=\"dataframe\">\n",
       "  <thead>\n",
       "    <tr style=\"text-align: right;\">\n",
       "      <th></th>\n",
       "      <th>month</th>\n",
       "      <th>day</th>\n",
       "      <th>y_test</th>\n",
       "      <th>y_pred_test</th>\n",
       "      <th>y_train_2014</th>\n",
       "    </tr>\n",
       "  </thead>\n",
       "  <tbody>\n",
       "    <tr>\n",
       "      <td>335</td>\n",
       "      <td>12</td>\n",
       "      <td>1</td>\n",
       "      <td>35854.0</td>\n",
       "      <td>35437.377778</td>\n",
       "      <td>NaN</td>\n",
       "    </tr>\n",
       "    <tr>\n",
       "      <td>336</td>\n",
       "      <td>12</td>\n",
       "      <td>2</td>\n",
       "      <td>36628.0</td>\n",
       "      <td>36084.844444</td>\n",
       "      <td>NaN</td>\n",
       "    </tr>\n",
       "    <tr>\n",
       "      <td>337</td>\n",
       "      <td>12</td>\n",
       "      <td>3</td>\n",
       "      <td>27249.0</td>\n",
       "      <td>27406.196878</td>\n",
       "      <td>NaN</td>\n",
       "    </tr>\n",
       "    <tr>\n",
       "      <td>338</td>\n",
       "      <td>12</td>\n",
       "      <td>4</td>\n",
       "      <td>22195.0</td>\n",
       "      <td>22293.592727</td>\n",
       "      <td>NaN</td>\n",
       "    </tr>\n",
       "    <tr>\n",
       "      <td>339</td>\n",
       "      <td>12</td>\n",
       "      <td>5</td>\n",
       "      <td>29877.0</td>\n",
       "      <td>29613.785113</td>\n",
       "      <td>NaN</td>\n",
       "    </tr>\n",
       "    <tr>\n",
       "      <td>340</td>\n",
       "      <td>12</td>\n",
       "      <td>6</td>\n",
       "      <td>35477.0</td>\n",
       "      <td>34684.568043</td>\n",
       "      <td>NaN</td>\n",
       "    </tr>\n",
       "    <tr>\n",
       "      <td>341</td>\n",
       "      <td>12</td>\n",
       "      <td>7</td>\n",
       "      <td>36580.0</td>\n",
       "      <td>36053.480233</td>\n",
       "      <td>NaN</td>\n",
       "    </tr>\n",
       "    <tr>\n",
       "      <td>342</td>\n",
       "      <td>12</td>\n",
       "      <td>8</td>\n",
       "      <td>36960.0</td>\n",
       "      <td>36648.077756</td>\n",
       "      <td>NaN</td>\n",
       "    </tr>\n",
       "    <tr>\n",
       "      <td>343</td>\n",
       "      <td>12</td>\n",
       "      <td>9</td>\n",
       "      <td>37007.0</td>\n",
       "      <td>36936.155450</td>\n",
       "      <td>NaN</td>\n",
       "    </tr>\n",
       "    <tr>\n",
       "      <td>344</td>\n",
       "      <td>12</td>\n",
       "      <td>10</td>\n",
       "      <td>28700.0</td>\n",
       "      <td>28544.478950</td>\n",
       "      <td>NaN</td>\n",
       "    </tr>\n",
       "    <tr>\n",
       "      <td>345</td>\n",
       "      <td>12</td>\n",
       "      <td>11</td>\n",
       "      <td>22829.0</td>\n",
       "      <td>22266.974719</td>\n",
       "      <td>NaN</td>\n",
       "    </tr>\n",
       "    <tr>\n",
       "      <td>346</td>\n",
       "      <td>12</td>\n",
       "      <td>12</td>\n",
       "      <td>29646.0</td>\n",
       "      <td>30352.630263</td>\n",
       "      <td>NaN</td>\n",
       "    </tr>\n",
       "    <tr>\n",
       "      <td>347</td>\n",
       "      <td>12</td>\n",
       "      <td>13</td>\n",
       "      <td>35195.0</td>\n",
       "      <td>35457.482639</td>\n",
       "      <td>NaN</td>\n",
       "    </tr>\n",
       "    <tr>\n",
       "      <td>348</td>\n",
       "      <td>12</td>\n",
       "      <td>14</td>\n",
       "      <td>36355.0</td>\n",
       "      <td>36547.372593</td>\n",
       "      <td>NaN</td>\n",
       "    </tr>\n",
       "    <tr>\n",
       "      <td>349</td>\n",
       "      <td>12</td>\n",
       "      <td>15</td>\n",
       "      <td>35474.0</td>\n",
       "      <td>36792.524454</td>\n",
       "      <td>NaN</td>\n",
       "    </tr>\n",
       "    <tr>\n",
       "      <td>350</td>\n",
       "      <td>12</td>\n",
       "      <td>16</td>\n",
       "      <td>36095.0</td>\n",
       "      <td>34825.508817</td>\n",
       "      <td>NaN</td>\n",
       "    </tr>\n",
       "    <tr>\n",
       "      <td>351</td>\n",
       "      <td>12</td>\n",
       "      <td>17</td>\n",
       "      <td>26466.0</td>\n",
       "      <td>27889.723927</td>\n",
       "      <td>NaN</td>\n",
       "    </tr>\n",
       "    <tr>\n",
       "      <td>352</td>\n",
       "      <td>12</td>\n",
       "      <td>18</td>\n",
       "      <td>21378.0</td>\n",
       "      <td>21552.950000</td>\n",
       "      <td>NaN</td>\n",
       "    </tr>\n",
       "    <tr>\n",
       "      <td>353</td>\n",
       "      <td>12</td>\n",
       "      <td>19</td>\n",
       "      <td>28843.0</td>\n",
       "      <td>29705.868337</td>\n",
       "      <td>NaN</td>\n",
       "    </tr>\n",
       "    <tr>\n",
       "      <td>354</td>\n",
       "      <td>12</td>\n",
       "      <td>20</td>\n",
       "      <td>34049.0</td>\n",
       "      <td>34722.577524</td>\n",
       "      <td>NaN</td>\n",
       "    </tr>\n",
       "    <tr>\n",
       "      <td>355</td>\n",
       "      <td>12</td>\n",
       "      <td>21</td>\n",
       "      <td>34013.0</td>\n",
       "      <td>35312.814539</td>\n",
       "      <td>NaN</td>\n",
       "    </tr>\n",
       "    <tr>\n",
       "      <td>356</td>\n",
       "      <td>12</td>\n",
       "      <td>22</td>\n",
       "      <td>33165.0</td>\n",
       "      <td>31893.714991</td>\n",
       "      <td>NaN</td>\n",
       "    </tr>\n",
       "    <tr>\n",
       "      <td>357</td>\n",
       "      <td>12</td>\n",
       "      <td>23</td>\n",
       "      <td>32509.0</td>\n",
       "      <td>31413.003981</td>\n",
       "      <td>NaN</td>\n",
       "    </tr>\n",
       "    <tr>\n",
       "      <td>358</td>\n",
       "      <td>12</td>\n",
       "      <td>24</td>\n",
       "      <td>21518.0</td>\n",
       "      <td>24499.543897</td>\n",
       "      <td>NaN</td>\n",
       "    </tr>\n",
       "    <tr>\n",
       "      <td>359</td>\n",
       "      <td>12</td>\n",
       "      <td>25</td>\n",
       "      <td>14935.0</td>\n",
       "      <td>17550.427778</td>\n",
       "      <td>NaN</td>\n",
       "    </tr>\n",
       "    <tr>\n",
       "      <td>360</td>\n",
       "      <td>12</td>\n",
       "      <td>26</td>\n",
       "      <td>16588.0</td>\n",
       "      <td>21054.169486</td>\n",
       "      <td>NaN</td>\n",
       "    </tr>\n",
       "    <tr>\n",
       "      <td>361</td>\n",
       "      <td>12</td>\n",
       "      <td>27</td>\n",
       "      <td>23187.0</td>\n",
       "      <td>22626.816667</td>\n",
       "      <td>NaN</td>\n",
       "    </tr>\n",
       "    <tr>\n",
       "      <td>362</td>\n",
       "      <td>12</td>\n",
       "      <td>28</td>\n",
       "      <td>27748.0</td>\n",
       "      <td>27058.450000</td>\n",
       "      <td>NaN</td>\n",
       "    </tr>\n",
       "    <tr>\n",
       "      <td>363</td>\n",
       "      <td>12</td>\n",
       "      <td>29</td>\n",
       "      <td>28214.0</td>\n",
       "      <td>29980.923810</td>\n",
       "      <td>NaN</td>\n",
       "    </tr>\n",
       "    <tr>\n",
       "      <td>364</td>\n",
       "      <td>12</td>\n",
       "      <td>30</td>\n",
       "      <td>29039.0</td>\n",
       "      <td>29813.971520</td>\n",
       "      <td>NaN</td>\n",
       "    </tr>\n",
       "    <tr>\n",
       "      <td>365</td>\n",
       "      <td>12</td>\n",
       "      <td>31</td>\n",
       "      <td>22981.0</td>\n",
       "      <td>21396.160121</td>\n",
       "      <td>NaN</td>\n",
       "    </tr>\n",
       "  </tbody>\n",
       "</table>\n",
       "</div>"
      ],
      "text/plain": [
       "     month  day   y_test   y_pred_test  y_train_2014\n",
       "335     12    1  35854.0  35437.377778           NaN\n",
       "336     12    2  36628.0  36084.844444           NaN\n",
       "337     12    3  27249.0  27406.196878           NaN\n",
       "338     12    4  22195.0  22293.592727           NaN\n",
       "339     12    5  29877.0  29613.785113           NaN\n",
       "340     12    6  35477.0  34684.568043           NaN\n",
       "341     12    7  36580.0  36053.480233           NaN\n",
       "342     12    8  36960.0  36648.077756           NaN\n",
       "343     12    9  37007.0  36936.155450           NaN\n",
       "344     12   10  28700.0  28544.478950           NaN\n",
       "345     12   11  22829.0  22266.974719           NaN\n",
       "346     12   12  29646.0  30352.630263           NaN\n",
       "347     12   13  35195.0  35457.482639           NaN\n",
       "348     12   14  36355.0  36547.372593           NaN\n",
       "349     12   15  35474.0  36792.524454           NaN\n",
       "350     12   16  36095.0  34825.508817           NaN\n",
       "351     12   17  26466.0  27889.723927           NaN\n",
       "352     12   18  21378.0  21552.950000           NaN\n",
       "353     12   19  28843.0  29705.868337           NaN\n",
       "354     12   20  34049.0  34722.577524           NaN\n",
       "355     12   21  34013.0  35312.814539           NaN\n",
       "356     12   22  33165.0  31893.714991           NaN\n",
       "357     12   23  32509.0  31413.003981           NaN\n",
       "358     12   24  21518.0  24499.543897           NaN\n",
       "359     12   25  14935.0  17550.427778           NaN\n",
       "360     12   26  16588.0  21054.169486           NaN\n",
       "361     12   27  23187.0  22626.816667           NaN\n",
       "362     12   28  27748.0  27058.450000           NaN\n",
       "363     12   29  28214.0  29980.923810           NaN\n",
       "364     12   30  29039.0  29813.971520           NaN\n",
       "365     12   31  22981.0  21396.160121           NaN"
      ]
     },
     "execution_count": 364,
     "metadata": {},
     "output_type": "execute_result"
    }
   ],
   "source": [
    "df"
   ]
  },
  {
   "cell_type": "code",
   "execution_count": 99,
   "metadata": {},
   "outputs": [],
   "source": [
    "y_pred_test = pd.Series(y_pred_test, index = y_test.index)"
   ]
  },
  {
   "cell_type": "code",
   "execution_count": 130,
   "metadata": {
    "scrolled": true
   },
   "outputs": [
    {
     "data": {
      "text/html": [
       "<div>\n",
       "<style scoped>\n",
       "    .dataframe tbody tr th:only-of-type {\n",
       "        vertical-align: middle;\n",
       "    }\n",
       "\n",
       "    .dataframe tbody tr th {\n",
       "        vertical-align: top;\n",
       "    }\n",
       "\n",
       "    .dataframe thead th {\n",
       "        text-align: right;\n",
       "    }\n",
       "</style>\n",
       "<table border=\"1\" class=\"dataframe\">\n",
       "  <thead>\n",
       "    <tr style=\"text-align: right;\">\n",
       "      <th></th>\n",
       "      <th>date</th>\n",
       "      <th>daily_entries</th>\n",
       "      <th>lag_1</th>\n",
       "      <th>lag_2</th>\n",
       "      <th>lag_3</th>\n",
       "      <th>lag_4</th>\n",
       "      <th>lag_5</th>\n",
       "      <th>lag_6</th>\n",
       "      <th>lag_7</th>\n",
       "      <th>lag_rate_1</th>\n",
       "      <th>...</th>\n",
       "      <th>quarter</th>\n",
       "      <th>day_of_week</th>\n",
       "      <th>week_of_year</th>\n",
       "      <th>is_business_day</th>\n",
       "      <th>is_national_holiday</th>\n",
       "      <th>is_month_start</th>\n",
       "      <th>is_month_end</th>\n",
       "      <th>is_quarter_start</th>\n",
       "      <th>is_quarter_end</th>\n",
       "      <th>istrain</th>\n",
       "    </tr>\n",
       "    <tr>\n",
       "      <th>datetime</th>\n",
       "      <th></th>\n",
       "      <th></th>\n",
       "      <th></th>\n",
       "      <th></th>\n",
       "      <th></th>\n",
       "      <th></th>\n",
       "      <th></th>\n",
       "      <th></th>\n",
       "      <th></th>\n",
       "      <th></th>\n",
       "      <th></th>\n",
       "      <th></th>\n",
       "      <th></th>\n",
       "      <th></th>\n",
       "      <th></th>\n",
       "      <th></th>\n",
       "      <th></th>\n",
       "      <th></th>\n",
       "      <th></th>\n",
       "      <th></th>\n",
       "      <th></th>\n",
       "    </tr>\n",
       "  </thead>\n",
       "  <tbody>\n",
       "    <tr>\n",
       "      <td>2010-04-17</td>\n",
       "      <td>2010-04-17</td>\n",
       "      <td>0.0</td>\n",
       "      <td>20546.0</td>\n",
       "      <td>29630.0</td>\n",
       "      <td>33551.0</td>\n",
       "      <td>34595.0</td>\n",
       "      <td>34542.0</td>\n",
       "      <td>34171.0</td>\n",
       "      <td>8238.0</td>\n",
       "      <td>0.000000</td>\n",
       "      <td>...</td>\n",
       "      <td>2</td>\n",
       "      <td>5</td>\n",
       "      <td>15</td>\n",
       "      <td>0</td>\n",
       "      <td>0</td>\n",
       "      <td>0</td>\n",
       "      <td>0</td>\n",
       "      <td>0</td>\n",
       "      <td>0</td>\n",
       "      <td>1</td>\n",
       "    </tr>\n",
       "    <tr>\n",
       "      <td>2010-04-18</td>\n",
       "      <td>2010-04-18</td>\n",
       "      <td>20546.0</td>\n",
       "      <td>29630.0</td>\n",
       "      <td>33551.0</td>\n",
       "      <td>34595.0</td>\n",
       "      <td>34542.0</td>\n",
       "      <td>34171.0</td>\n",
       "      <td>8238.0</td>\n",
       "      <td>232395.0</td>\n",
       "      <td>1.442130</td>\n",
       "      <td>...</td>\n",
       "      <td>2</td>\n",
       "      <td>6</td>\n",
       "      <td>15</td>\n",
       "      <td>0</td>\n",
       "      <td>0</td>\n",
       "      <td>0</td>\n",
       "      <td>0</td>\n",
       "      <td>0</td>\n",
       "      <td>0</td>\n",
       "      <td>1</td>\n",
       "    </tr>\n",
       "    <tr>\n",
       "      <td>2010-04-19</td>\n",
       "      <td>2010-04-19</td>\n",
       "      <td>29630.0</td>\n",
       "      <td>33551.0</td>\n",
       "      <td>34595.0</td>\n",
       "      <td>34542.0</td>\n",
       "      <td>34171.0</td>\n",
       "      <td>8238.0</td>\n",
       "      <td>232395.0</td>\n",
       "      <td>21222.0</td>\n",
       "      <td>1.132332</td>\n",
       "      <td>...</td>\n",
       "      <td>2</td>\n",
       "      <td>0</td>\n",
       "      <td>16</td>\n",
       "      <td>1</td>\n",
       "      <td>0</td>\n",
       "      <td>0</td>\n",
       "      <td>0</td>\n",
       "      <td>0</td>\n",
       "      <td>0</td>\n",
       "      <td>1</td>\n",
       "    </tr>\n",
       "    <tr>\n",
       "      <td>2010-04-20</td>\n",
       "      <td>2010-04-20</td>\n",
       "      <td>33551.0</td>\n",
       "      <td>34595.0</td>\n",
       "      <td>34542.0</td>\n",
       "      <td>34171.0</td>\n",
       "      <td>8238.0</td>\n",
       "      <td>232395.0</td>\n",
       "      <td>21222.0</td>\n",
       "      <td>29259.0</td>\n",
       "      <td>1.031117</td>\n",
       "      <td>...</td>\n",
       "      <td>2</td>\n",
       "      <td>1</td>\n",
       "      <td>16</td>\n",
       "      <td>1</td>\n",
       "      <td>0</td>\n",
       "      <td>0</td>\n",
       "      <td>0</td>\n",
       "      <td>0</td>\n",
       "      <td>0</td>\n",
       "      <td>1</td>\n",
       "    </tr>\n",
       "    <tr>\n",
       "      <td>2010-04-21</td>\n",
       "      <td>2010-04-21</td>\n",
       "      <td>34595.0</td>\n",
       "      <td>34542.0</td>\n",
       "      <td>34171.0</td>\n",
       "      <td>8238.0</td>\n",
       "      <td>232395.0</td>\n",
       "      <td>21222.0</td>\n",
       "      <td>29259.0</td>\n",
       "      <td>33990.0</td>\n",
       "      <td>0.998468</td>\n",
       "      <td>...</td>\n",
       "      <td>2</td>\n",
       "      <td>2</td>\n",
       "      <td>16</td>\n",
       "      <td>1</td>\n",
       "      <td>0</td>\n",
       "      <td>0</td>\n",
       "      <td>0</td>\n",
       "      <td>0</td>\n",
       "      <td>0</td>\n",
       "      <td>1</td>\n",
       "    </tr>\n",
       "    <tr>\n",
       "      <td>...</td>\n",
       "      <td>...</td>\n",
       "      <td>...</td>\n",
       "      <td>...</td>\n",
       "      <td>...</td>\n",
       "      <td>...</td>\n",
       "      <td>...</td>\n",
       "      <td>...</td>\n",
       "      <td>...</td>\n",
       "      <td>...</td>\n",
       "      <td>...</td>\n",
       "      <td>...</td>\n",
       "      <td>...</td>\n",
       "      <td>...</td>\n",
       "      <td>...</td>\n",
       "      <td>...</td>\n",
       "      <td>...</td>\n",
       "      <td>...</td>\n",
       "      <td>...</td>\n",
       "      <td>...</td>\n",
       "      <td>...</td>\n",
       "      <td>...</td>\n",
       "    </tr>\n",
       "    <tr>\n",
       "      <td>2017-09-19</td>\n",
       "      <td>2017-09-19</td>\n",
       "      <td>33264.0</td>\n",
       "      <td>33527.0</td>\n",
       "      <td>30495.0</td>\n",
       "      <td>29895.0</td>\n",
       "      <td>7052.0</td>\n",
       "      <td>0.0</td>\n",
       "      <td>0.0</td>\n",
       "      <td>0.0</td>\n",
       "      <td>1.007906</td>\n",
       "      <td>...</td>\n",
       "      <td>3</td>\n",
       "      <td>1</td>\n",
       "      <td>38</td>\n",
       "      <td>1</td>\n",
       "      <td>0</td>\n",
       "      <td>0</td>\n",
       "      <td>0</td>\n",
       "      <td>0</td>\n",
       "      <td>0</td>\n",
       "      <td>2</td>\n",
       "    </tr>\n",
       "    <tr>\n",
       "      <td>2017-09-20</td>\n",
       "      <td>2017-09-20</td>\n",
       "      <td>33527.0</td>\n",
       "      <td>30495.0</td>\n",
       "      <td>29895.0</td>\n",
       "      <td>7052.0</td>\n",
       "      <td>0.0</td>\n",
       "      <td>0.0</td>\n",
       "      <td>0.0</td>\n",
       "      <td>0.0</td>\n",
       "      <td>0.909565</td>\n",
       "      <td>...</td>\n",
       "      <td>3</td>\n",
       "      <td>2</td>\n",
       "      <td>38</td>\n",
       "      <td>1</td>\n",
       "      <td>0</td>\n",
       "      <td>0</td>\n",
       "      <td>0</td>\n",
       "      <td>0</td>\n",
       "      <td>0</td>\n",
       "      <td>2</td>\n",
       "    </tr>\n",
       "    <tr>\n",
       "      <td>2017-09-21</td>\n",
       "      <td>2017-09-21</td>\n",
       "      <td>30495.0</td>\n",
       "      <td>29895.0</td>\n",
       "      <td>7052.0</td>\n",
       "      <td>0.0</td>\n",
       "      <td>0.0</td>\n",
       "      <td>0.0</td>\n",
       "      <td>0.0</td>\n",
       "      <td>0.0</td>\n",
       "      <td>0.980325</td>\n",
       "      <td>...</td>\n",
       "      <td>3</td>\n",
       "      <td>3</td>\n",
       "      <td>38</td>\n",
       "      <td>1</td>\n",
       "      <td>0</td>\n",
       "      <td>0</td>\n",
       "      <td>0</td>\n",
       "      <td>0</td>\n",
       "      <td>0</td>\n",
       "      <td>2</td>\n",
       "    </tr>\n",
       "    <tr>\n",
       "      <td>2017-09-22</td>\n",
       "      <td>2017-09-22</td>\n",
       "      <td>29895.0</td>\n",
       "      <td>7052.0</td>\n",
       "      <td>0.0</td>\n",
       "      <td>0.0</td>\n",
       "      <td>0.0</td>\n",
       "      <td>0.0</td>\n",
       "      <td>0.0</td>\n",
       "      <td>0.0</td>\n",
       "      <td>0.235892</td>\n",
       "      <td>...</td>\n",
       "      <td>3</td>\n",
       "      <td>4</td>\n",
       "      <td>38</td>\n",
       "      <td>1</td>\n",
       "      <td>0</td>\n",
       "      <td>0</td>\n",
       "      <td>0</td>\n",
       "      <td>0</td>\n",
       "      <td>0</td>\n",
       "      <td>2</td>\n",
       "    </tr>\n",
       "    <tr>\n",
       "      <td>2017-09-23</td>\n",
       "      <td>2017-09-23</td>\n",
       "      <td>7052.0</td>\n",
       "      <td>0.0</td>\n",
       "      <td>0.0</td>\n",
       "      <td>0.0</td>\n",
       "      <td>0.0</td>\n",
       "      <td>0.0</td>\n",
       "      <td>0.0</td>\n",
       "      <td>0.0</td>\n",
       "      <td>0.000000</td>\n",
       "      <td>...</td>\n",
       "      <td>3</td>\n",
       "      <td>5</td>\n",
       "      <td>38</td>\n",
       "      <td>0</td>\n",
       "      <td>0</td>\n",
       "      <td>0</td>\n",
       "      <td>0</td>\n",
       "      <td>0</td>\n",
       "      <td>0</td>\n",
       "      <td>2</td>\n",
       "    </tr>\n",
       "  </tbody>\n",
       "</table>\n",
       "<p>2705 rows × 29 columns</p>\n",
       "</div>"
      ],
      "text/plain": [
       "                 date  daily_entries    lag_1    lag_2    lag_3     lag_4  \\\n",
       "datetime                                                                    \n",
       "2010-04-17 2010-04-17            0.0  20546.0  29630.0  33551.0   34595.0   \n",
       "2010-04-18 2010-04-18        20546.0  29630.0  33551.0  34595.0   34542.0   \n",
       "2010-04-19 2010-04-19        29630.0  33551.0  34595.0  34542.0   34171.0   \n",
       "2010-04-20 2010-04-20        33551.0  34595.0  34542.0  34171.0    8238.0   \n",
       "2010-04-21 2010-04-21        34595.0  34542.0  34171.0   8238.0  232395.0   \n",
       "...               ...            ...      ...      ...      ...       ...   \n",
       "2017-09-19 2017-09-19        33264.0  33527.0  30495.0  29895.0    7052.0   \n",
       "2017-09-20 2017-09-20        33527.0  30495.0  29895.0   7052.0       0.0   \n",
       "2017-09-21 2017-09-21        30495.0  29895.0   7052.0      0.0       0.0   \n",
       "2017-09-22 2017-09-22        29895.0   7052.0      0.0      0.0       0.0   \n",
       "2017-09-23 2017-09-23         7052.0      0.0      0.0      0.0       0.0   \n",
       "\n",
       "               lag_5     lag_6     lag_7  lag_rate_1  ...  quarter  \\\n",
       "datetime                                              ...            \n",
       "2010-04-17   34542.0   34171.0    8238.0    0.000000  ...        2   \n",
       "2010-04-18   34171.0    8238.0  232395.0    1.442130  ...        2   \n",
       "2010-04-19    8238.0  232395.0   21222.0    1.132332  ...        2   \n",
       "2010-04-20  232395.0   21222.0   29259.0    1.031117  ...        2   \n",
       "2010-04-21   21222.0   29259.0   33990.0    0.998468  ...        2   \n",
       "...              ...       ...       ...         ...  ...      ...   \n",
       "2017-09-19       0.0       0.0       0.0    1.007906  ...        3   \n",
       "2017-09-20       0.0       0.0       0.0    0.909565  ...        3   \n",
       "2017-09-21       0.0       0.0       0.0    0.980325  ...        3   \n",
       "2017-09-22       0.0       0.0       0.0    0.235892  ...        3   \n",
       "2017-09-23       0.0       0.0       0.0    0.000000  ...        3   \n",
       "\n",
       "            day_of_week  week_of_year  is_business_day  is_national_holiday  \\\n",
       "datetime                                                                      \n",
       "2010-04-17            5            15                0                    0   \n",
       "2010-04-18            6            15                0                    0   \n",
       "2010-04-19            0            16                1                    0   \n",
       "2010-04-20            1            16                1                    0   \n",
       "2010-04-21            2            16                1                    0   \n",
       "...                 ...           ...              ...                  ...   \n",
       "2017-09-19            1            38                1                    0   \n",
       "2017-09-20            2            38                1                    0   \n",
       "2017-09-21            3            38                1                    0   \n",
       "2017-09-22            4            38                1                    0   \n",
       "2017-09-23            5            38                0                    0   \n",
       "\n",
       "            is_month_start  is_month_end  is_quarter_start  is_quarter_end  \\\n",
       "datetime                                                                     \n",
       "2010-04-17               0             0                 0               0   \n",
       "2010-04-18               0             0                 0               0   \n",
       "2010-04-19               0             0                 0               0   \n",
       "2010-04-20               0             0                 0               0   \n",
       "2010-04-21               0             0                 0               0   \n",
       "...                    ...           ...               ...             ...   \n",
       "2017-09-19               0             0                 0               0   \n",
       "2017-09-20               0             0                 0               0   \n",
       "2017-09-21               0             0                 0               0   \n",
       "2017-09-22               0             0                 0               0   \n",
       "2017-09-23               0             0                 0               0   \n",
       "\n",
       "            istrain  \n",
       "datetime             \n",
       "2010-04-17        1  \n",
       "2010-04-18        1  \n",
       "2010-04-19        1  \n",
       "2010-04-20        1  \n",
       "2010-04-21        1  \n",
       "...             ...  \n",
       "2017-09-19        2  \n",
       "2017-09-20        2  \n",
       "2017-09-21        2  \n",
       "2017-09-22        2  \n",
       "2017-09-23        2  \n",
       "\n",
       "[2705 rows x 29 columns]"
      ]
     },
     "execution_count": 130,
     "metadata": {},
     "output_type": "execute_result"
    }
   ],
   "source": [
    "df_model"
   ]
  },
  {
   "cell_type": "markdown",
   "metadata": {},
   "source": [
    "### Apresentação do resultado"
   ]
  },
  {
   "cell_type": "code",
   "execution_count": 155,
   "metadata": {},
   "outputs": [
    {
     "data": {
      "image/png": "[encoded data removed]",
      "text/plain": [
       "<Figure size 432x288 with 1 Axes>"
      ]
     },
     "metadata": {
      "needs_background": "light"
     },
     "output_type": "display_data"
    }
   ],
   "source": [
    "known = df_model.loc['2014-12-15':'2015-01-01'].daily_entries\n",
    "unknown = df_model.loc['2015-01-01':'2015-01-15'].daily_entries\n",
    "predicted = y_pred_test.loc['2015-01-01':'2015-01-15']\n",
    "\n",
    "fig, ax = plt.subplots();\n",
    "known.plot(ax=ax, c='c', marker='o', zorder=3);\n",
    "unknown.plot(ax=ax, c='grey', alpha=0.5);\n",
    "predicted.plot(ax=ax, c='r', marker='o', markersize=1,\n",
    "                linestyle='');\n",
    "\n",
    "ax.legend(['known', 'future', 'value predicted']);\n",
    "ax.set_ylabel('# Pessoas que entraram na estação');"
   ]
  },
  {
   "cell_type": "code",
   "execution_count": 159,
   "metadata": {},
   "outputs": [
    {
     "data": {
      "image/png": "[encoded data removed]",
      "text/plain": [
       "<Figure size 432x288 with 1 Axes>"
      ]
     },
     "metadata": {
      "needs_background": "light"
     },
     "output_type": "display_data"
    }
   ],
   "source": [
    "known = df_model.loc['2014-12-29':'2015-01-01'].daily_entries\n",
    "unknown = df_model.loc['2015-01-01':'2015-01-04'].daily_entries\n",
    "predicted = y_pred_test.loc['2015-01-01':'2015-01-04']\n",
    "\n",
    "fig, ax = plt.subplots();\n",
    "known.plot(ax=ax, c='c', marker='o', zorder=3);\n",
    "unknown.plot(ax=ax, c='grey', alpha=0.5);\n",
    "predicted.plot(ax=ax, c='r', marker='o', markersize=1,\n",
    "                linestyle='');\n",
    "\n",
    "ax.legend(['known', 'future', 'value predicted']);\n",
    "ax.set_ylabel('# Pessoas que entraram na estação');"
   ]
  },
  {
   "cell_type": "markdown",
   "metadata": {},
   "source": [
    "### Model Selection\n",
    "\n",
    "* A ser desenvolvido estudo com modelos regressores, performance e tempo estimado de treinamento para escalonabilidade"
   ]
  },
  {
   "cell_type": "markdown",
   "metadata": {},
   "source": [
    "### Hyperparameter Tuning\n",
    "* A partir do modelo escolhido, realizar o tuning para aprimorar resultados"
   ]
  },
  {
   "cell_type": "markdown",
   "metadata": {
    "heading_collapsed": true
   },
   "source": [
    "### Validation"
   ]
  },
  {
   "cell_type": "code",
   "execution_count": null,
   "metadata": {
    "hidden": true
   },
   "outputs": [],
   "source": []
  }
 ],
 "metadata": {
  "kernelspec": {
   "display_name": "Python 3",
   "language": "python",
   "name": "python3"
  },
  "language_info": {
   "codemirror_mode": {
    "name": "ipython",
    "version": 3
   },
   "file_extension": ".py",
   "mimetype": "text/x-python",
   "name": "python",
   "nbconvert_exporter": "python",
   "pygments_lexer": "ipython3",
   "version": "3.7.4"
  },
  "toc": {
   "base_numbering": 1,
   "nav_menu": {},
   "number_sections": true,
   "sideBar": true,
   "skip_h1_title": false,
   "title_cell": "Table of Contents",
   "title_sidebar": "Contents",
   "toc_cell": false,
   "toc_position": {},
   "toc_section_display": true,
   "toc_window_display": false
  }
 },
 "nbformat": 4,
 "nbformat_minor": 2
}
